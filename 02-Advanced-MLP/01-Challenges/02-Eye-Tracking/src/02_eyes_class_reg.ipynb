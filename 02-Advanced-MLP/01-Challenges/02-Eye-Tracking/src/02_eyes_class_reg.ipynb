{
 "cells": [
  {
   "cell_type": "code",
   "execution_count": 93,
   "metadata": {},
   "outputs": [],
   "source": [
    "# imports\n",
    "import keras\n",
    "import numpy as np\n",
    "from keras.models import Sequential\n",
    "from keras.layers import Dense, Input\n",
    "from tensorflow.keras.preprocessing.image import array_to_img, img_to_array, load_img"
   ]
  },
  {
   "cell_type": "code",
   "execution_count": 94,
   "metadata": {},
   "outputs": [
    {
     "name": "stdout",
     "output_type": "stream",
     "text": [
      "[<PIL.JpegImagePlugin.JpegImageFile image mode=L size=400x260 at 0x7FB0E89F1A50>, <PIL.JpegImagePlugin.JpegImageFile image mode=L size=400x260 at 0x7FB19B5D4E80>, <PIL.JpegImagePlugin.JpegImageFile image mode=L size=400x260 at 0x7FB0E9FDFE20>, <PIL.JpegImagePlugin.JpegImageFile image mode=L size=400x260 at 0x7FB0C181C1C0>, <PIL.JpegImagePlugin.JpegImageFile image mode=L size=400x260 at 0x7FB0C181CBE0>, <PIL.JpegImagePlugin.JpegImageFile image mode=L size=400x260 at 0x7FB0C181CB50>, <PIL.JpegImagePlugin.JpegImageFile image mode=L size=400x260 at 0x7FB0E8B17C70>, <PIL.JpegImagePlugin.JpegImageFile image mode=L size=400x260 at 0x7FB0E31E1F30>, <PIL.JpegImagePlugin.JpegImageFile image mode=L size=400x260 at 0x7FB0B58D9390>, <PIL.JpegImagePlugin.JpegImageFile image mode=L size=400x260 at 0x7FB0B58D8FD0>, <PIL.JpegImagePlugin.JpegImageFile image mode=L size=400x260 at 0x7FB0B58D8E50>, <PIL.JpegImagePlugin.JpegImageFile image mode=L size=400x260 at 0x7FB0B58D9240>, <PIL.JpegImagePlugin.JpegImageFile image mode=L size=400x260 at 0x7FB0B58D9720>, <PIL.JpegImagePlugin.JpegImageFile image mode=L size=400x260 at 0x7FB0B58D8FA0>, <PIL.JpegImagePlugin.JpegImageFile image mode=L size=400x260 at 0x7FB0B58D9120>, <PIL.JpegImagePlugin.JpegImageFile image mode=L size=400x260 at 0x7FB0B58D9150>, <PIL.JpegImagePlugin.JpegImageFile image mode=L size=400x260 at 0x7FB0B58D9000>, <PIL.JpegImagePlugin.JpegImageFile image mode=L size=400x260 at 0x7FB0B58D8DF0>, <PIL.JpegImagePlugin.JpegImageFile image mode=L size=400x260 at 0x7FB0B58D98A0>, <PIL.JpegImagePlugin.JpegImageFile image mode=L size=400x260 at 0x7FB0B58D9780>, <PIL.JpegImagePlugin.JpegImageFile image mode=L size=400x260 at 0x7FB0B58D9930>, <PIL.JpegImagePlugin.JpegImageFile image mode=L size=400x260 at 0x7FB0B58D8DC0>, <PIL.JpegImagePlugin.JpegImageFile image mode=L size=400x260 at 0x7FB0B58D8D90>, <PIL.JpegImagePlugin.JpegImageFile image mode=L size=400x260 at 0x7FB0B58DB3A0>, <PIL.JpegImagePlugin.JpegImageFile image mode=L size=400x260 at 0x7FB0B58D8EB0>, <PIL.JpegImagePlugin.JpegImageFile image mode=L size=400x260 at 0x7FB0B58D94B0>, <PIL.JpegImagePlugin.JpegImageFile image mode=L size=400x260 at 0x7FB0B58DA470>, <PIL.JpegImagePlugin.JpegImageFile image mode=L size=400x260 at 0x7FB0B58DA410>, <PIL.JpegImagePlugin.JpegImageFile image mode=L size=400x260 at 0x7FB0B58D92D0>, <PIL.JpegImagePlugin.JpegImageFile image mode=L size=400x260 at 0x7FB0B58D9750>, <PIL.JpegImagePlugin.JpegImageFile image mode=L size=400x260 at 0x7FB0B58DB4F0>, <PIL.JpegImagePlugin.JpegImageFile image mode=L size=400x260 at 0x7FB0B58D9990>, <PIL.JpegImagePlugin.JpegImageFile image mode=L size=400x260 at 0x7FB0B58D9870>, <PIL.JpegImagePlugin.JpegImageFile image mode=L size=400x260 at 0x7FB0B58D9960>, <PIL.JpegImagePlugin.JpegImageFile image mode=L size=400x260 at 0x7FB0B58D9A20>, <PIL.JpegImagePlugin.JpegImageFile image mode=L size=400x260 at 0x7FB0B58DB550>, <PIL.JpegImagePlugin.JpegImageFile image mode=L size=400x260 at 0x7FB0B58D92A0>, <PIL.JpegImagePlugin.JpegImageFile image mode=L size=400x260 at 0x7FB0B58D90F0>, <PIL.JpegImagePlugin.JpegImageFile image mode=L size=400x260 at 0x7FB0B58D90C0>, <PIL.JpegImagePlugin.JpegImageFile image mode=L size=400x260 at 0x7FB0B58D9630>, <PIL.JpegImagePlugin.JpegImageFile image mode=L size=400x260 at 0x7FB0B58DA4D0>, <PIL.JpegImagePlugin.JpegImageFile image mode=L size=400x260 at 0x7FB0B58DA530>, <PIL.JpegImagePlugin.JpegImageFile image mode=L size=400x260 at 0x7FB0B58D9450>, <PIL.JpegImagePlugin.JpegImageFile image mode=L size=400x260 at 0x7FB0B58D9690>, <PIL.JpegImagePlugin.JpegImageFile image mode=L size=400x260 at 0x7FB0B58D9810>, <PIL.JpegImagePlugin.JpegImageFile image mode=L size=400x260 at 0x7FB0B58DAFB0>, <PIL.JpegImagePlugin.JpegImageFile image mode=L size=400x260 at 0x7FB0B58DAE60>, <PIL.JpegImagePlugin.JpegImageFile image mode=L size=400x260 at 0x7FB0B58DAEF0>, <PIL.JpegImagePlugin.JpegImageFile image mode=L size=400x260 at 0x7FB0B58DAEC0>, <PIL.JpegImagePlugin.JpegImageFile image mode=L size=400x260 at 0x7FB0B58DAE30>, <PIL.JpegImagePlugin.JpegImageFile image mode=L size=400x260 at 0x7FB0B58DAF80>, <PIL.JpegImagePlugin.JpegImageFile image mode=L size=400x260 at 0x7FB0B58DAF50>, <PIL.JpegImagePlugin.JpegImageFile image mode=L size=400x260 at 0x7FB0B58DA6B0>, <PIL.JpegImagePlugin.JpegImageFile image mode=L size=400x260 at 0x7FB0B58DA710>, <PIL.JpegImagePlugin.JpegImageFile image mode=L size=400x260 at 0x7FB0B58DA7D0>, <PIL.JpegImagePlugin.JpegImageFile image mode=L size=400x260 at 0x7FB0B58D9270>, <PIL.JpegImagePlugin.JpegImageFile image mode=L size=400x260 at 0x7FB0B58DA3E0>, <PIL.JpegImagePlugin.JpegImageFile image mode=L size=400x260 at 0x7FB0B58DA380>, <PIL.JpegImagePlugin.JpegImageFile image mode=L size=400x260 at 0x7FB0B58DA320>, <PIL.JpegImagePlugin.JpegImageFile image mode=L size=400x260 at 0x7FB0B58DA2C0>, <PIL.JpegImagePlugin.JpegImageFile image mode=L size=400x260 at 0x7FB0B58DA260>, <PIL.JpegImagePlugin.JpegImageFile image mode=L size=400x260 at 0x7FB0B58DA200>, <PIL.JpegImagePlugin.JpegImageFile image mode=L size=400x260 at 0x7FB0B58DA1A0>, <PIL.JpegImagePlugin.JpegImageFile image mode=L size=400x260 at 0x7FB0B58DA140>, <PIL.JpegImagePlugin.JpegImageFile image mode=L size=400x260 at 0x7FB0B58DA0E0>, <PIL.JpegImagePlugin.JpegImageFile image mode=L size=400x260 at 0x7FB0B58DA080>, <PIL.JpegImagePlugin.JpegImageFile image mode=L size=400x260 at 0x7FB0B58DA020>, <PIL.JpegImagePlugin.JpegImageFile image mode=L size=400x260 at 0x7FB0B58D9FC0>, <PIL.JpegImagePlugin.JpegImageFile image mode=L size=400x260 at 0x7FB0B58D9F60>, <PIL.JpegImagePlugin.JpegImageFile image mode=L size=400x260 at 0x7FB0B58D9F00>, <PIL.JpegImagePlugin.JpegImageFile image mode=L size=400x260 at 0x7FB0B58D9EA0>, <PIL.JpegImagePlugin.JpegImageFile image mode=L size=400x260 at 0x7FB0B58D9E40>, <PIL.JpegImagePlugin.JpegImageFile image mode=L size=400x260 at 0x7FB0B58D9DE0>, <PIL.JpegImagePlugin.JpegImageFile image mode=L size=400x260 at 0x7FB0B58D9D80>, <PIL.JpegImagePlugin.JpegImageFile image mode=L size=400x260 at 0x7FB0B58D9D20>, <PIL.JpegImagePlugin.JpegImageFile image mode=L size=400x260 at 0x7FB0B58D9CC0>, <PIL.JpegImagePlugin.JpegImageFile image mode=L size=400x260 at 0x7FB0B58D9C60>, <PIL.JpegImagePlugin.JpegImageFile image mode=L size=400x260 at 0x7FB0B58D9C00>, <PIL.JpegImagePlugin.JpegImageFile image mode=L size=400x260 at 0x7FB0B58D9BA0>, <PIL.JpegImagePlugin.JpegImageFile image mode=L size=400x260 at 0x7FB0B58D9B40>, <PIL.JpegImagePlugin.JpegImageFile image mode=L size=400x260 at 0x7FB0B58D9AE0>, <PIL.JpegImagePlugin.JpegImageFile image mode=L size=400x260 at 0x7FB0B58D9A80>, <PIL.JpegImagePlugin.JpegImageFile image mode=L size=400x260 at 0x7FB0B58D8850>, <PIL.JpegImagePlugin.JpegImageFile image mode=L size=400x260 at 0x7FB0B58D87F0>, <PIL.JpegImagePlugin.JpegImageFile image mode=L size=400x260 at 0x7FB0B58D8790>, <PIL.JpegImagePlugin.JpegImageFile image mode=L size=400x260 at 0x7FB0B58D8730>, <PIL.JpegImagePlugin.JpegImageFile image mode=L size=400x260 at 0x7FB0B58D86D0>, <PIL.JpegImagePlugin.JpegImageFile image mode=L size=400x260 at 0x7FB0B58D8670>, <PIL.JpegImagePlugin.JpegImageFile image mode=L size=400x260 at 0x7FB0B58D8610>, <PIL.JpegImagePlugin.JpegImageFile image mode=L size=400x260 at 0x7FB0B58D85B0>, <PIL.JpegImagePlugin.JpegImageFile image mode=L size=400x260 at 0x7FB0B58D8550>, <PIL.JpegImagePlugin.JpegImageFile image mode=L size=400x260 at 0x7FB0B58D84F0>, <PIL.JpegImagePlugin.JpegImageFile image mode=L size=400x260 at 0x7FB0B58D8490>, <PIL.JpegImagePlugin.JpegImageFile image mode=L size=400x260 at 0x7FB0B58D8430>, <PIL.JpegImagePlugin.JpegImageFile image mode=L size=400x260 at 0x7FB0B58D83D0>, <PIL.JpegImagePlugin.JpegImageFile image mode=L size=400x260 at 0x7FB0B58D8370>, <PIL.JpegImagePlugin.JpegImageFile image mode=L size=400x260 at 0x7FB0B58D8310>, <PIL.JpegImagePlugin.JpegImageFile image mode=L size=400x260 at 0x7FB0B58D82B0>, <PIL.JpegImagePlugin.JpegImageFile image mode=L size=400x260 at 0x7FB0B58D8250>, <PIL.JpegImagePlugin.JpegImageFile image mode=L size=400x260 at 0x7FB0B58D81F0>, <PIL.JpegImagePlugin.JpegImageFile image mode=L size=400x260 at 0x7FB0B58D8190>, <PIL.JpegImagePlugin.JpegImageFile image mode=L size=400x260 at 0x7FB0B58D8130>, <PIL.JpegImagePlugin.JpegImageFile image mode=L size=400x260 at 0x7FB0B58D80D0>, <PIL.JpegImagePlugin.JpegImageFile image mode=L size=400x260 at 0x7FB0B58D8070>, <PIL.JpegImagePlugin.JpegImageFile image mode=L size=400x260 at 0x7FB0B58D8040>, <PIL.JpegImagePlugin.JpegImageFile image mode=L size=400x260 at 0x7FB00EFBD660>, <PIL.JpegImagePlugin.JpegImageFile image mode=L size=400x260 at 0x7FB00EFBD750>, <PIL.JpegImagePlugin.JpegImageFile image mode=L size=400x260 at 0x7FB00EFBCD00>, <PIL.JpegImagePlugin.JpegImageFile image mode=L size=400x260 at 0x7FB00EFBD060>, <PIL.JpegImagePlugin.JpegImageFile image mode=L size=400x260 at 0x7FB00EFBD030>, <PIL.JpegImagePlugin.JpegImageFile image mode=L size=400x260 at 0x7FB00EFBCFD0>, <PIL.JpegImagePlugin.JpegImageFile image mode=L size=400x260 at 0x7FB00EFBDA80>, <PIL.JpegImagePlugin.JpegImageFile image mode=L size=400x260 at 0x7FB00EFBDAE0>, <PIL.JpegImagePlugin.JpegImageFile image mode=L size=400x260 at 0x7FB00EFBDB40>, <PIL.JpegImagePlugin.JpegImageFile image mode=L size=400x260 at 0x7FB00EFBDBA0>, <PIL.JpegImagePlugin.JpegImageFile image mode=L size=400x260 at 0x7FB00EFBDC00>, <PIL.JpegImagePlugin.JpegImageFile image mode=L size=400x260 at 0x7FB00EFBE260>, <PIL.JpegImagePlugin.JpegImageFile image mode=L size=400x260 at 0x7FB00EFBE2C0>, <PIL.JpegImagePlugin.JpegImageFile image mode=L size=400x260 at 0x7FB00EFBE320>, <PIL.JpegImagePlugin.JpegImageFile image mode=L size=400x260 at 0x7FB00EFBE380>, <PIL.JpegImagePlugin.JpegImageFile image mode=L size=400x260 at 0x7FB00EFBE3E0>, <PIL.JpegImagePlugin.JpegImageFile image mode=L size=400x260 at 0x7FB00EFBE440>, <PIL.JpegImagePlugin.JpegImageFile image mode=L size=400x260 at 0x7FB00EFBE4A0>, <PIL.JpegImagePlugin.JpegImageFile image mode=L size=400x260 at 0x7FB00EFBE500>, <PIL.JpegImagePlugin.JpegImageFile image mode=L size=400x260 at 0x7FB00EFBE560>, <PIL.JpegImagePlugin.JpegImageFile image mode=L size=400x260 at 0x7FB00EFBE5C0>, <PIL.JpegImagePlugin.JpegImageFile image mode=L size=400x260 at 0x7FB00EFBE620>, <PIL.JpegImagePlugin.JpegImageFile image mode=L size=400x260 at 0x7FB00EFBF280>, <PIL.JpegImagePlugin.JpegImageFile image mode=L size=400x260 at 0x7FB00EFBF2E0>, <PIL.JpegImagePlugin.JpegImageFile image mode=L size=400x260 at 0x7FB00EFBF340>, <PIL.JpegImagePlugin.JpegImageFile image mode=L size=400x260 at 0x7FB0B58DFE80>, <PIL.JpegImagePlugin.JpegImageFile image mode=L size=400x260 at 0x7FB0B58DFB80>, <PIL.JpegImagePlugin.JpegImageFile image mode=L size=400x260 at 0x7FB0E2FAD3F0>, <PIL.JpegImagePlugin.JpegImageFile image mode=L size=400x260 at 0x7FB0E8A0BEE0>, <PIL.JpegImagePlugin.JpegImageFile image mode=L size=400x260 at 0x7FB00EFBF400>, <PIL.JpegImagePlugin.JpegImageFile image mode=L size=400x260 at 0x7FB00EFBF460>, <PIL.JpegImagePlugin.JpegImageFile image mode=L size=400x260 at 0x7FB00EFBF4C0>, <PIL.JpegImagePlugin.JpegImageFile image mode=L size=400x260 at 0x7FB00EFBF520>, <PIL.JpegImagePlugin.JpegImageFile image mode=L size=400x260 at 0x7FB00EFBF580>, <PIL.JpegImagePlugin.JpegImageFile image mode=L size=400x260 at 0x7FB00EFBF5E0>, <PIL.JpegImagePlugin.JpegImageFile image mode=L size=400x260 at 0x7FB00EFBF640>, <PIL.JpegImagePlugin.JpegImageFile image mode=L size=400x260 at 0x7FB00EFBF6A0>, <PIL.JpegImagePlugin.JpegImageFile image mode=L size=400x260 at 0x7FB00EFBF700>, <PIL.JpegImagePlugin.JpegImageFile image mode=L size=400x260 at 0x7FB00EFBF760>, <PIL.JpegImagePlugin.JpegImageFile image mode=L size=400x260 at 0x7FB00EFBCAF0>, <PIL.JpegImagePlugin.JpegImageFile image mode=L size=400x260 at 0x7FB00EFBC9D0>, <PIL.JpegImagePlugin.JpegImageFile image mode=L size=400x260 at 0x7FB00EFBC9A0>, <PIL.JpegImagePlugin.JpegImageFile image mode=L size=400x260 at 0x7FB00EFBCCD0>, <PIL.JpegImagePlugin.JpegImageFile image mode=L size=400x260 at 0x7FB00EFBC940>, <PIL.JpegImagePlugin.JpegImageFile image mode=L size=400x260 at 0x7FB00EFBC880>, <PIL.JpegImagePlugin.JpegImageFile image mode=L size=400x260 at 0x7FB00EFBCFA0>, <PIL.JpegImagePlugin.JpegImageFile image mode=L size=400x260 at 0x7FB00EFBCF70>, <PIL.JpegImagePlugin.JpegImageFile image mode=L size=400x260 at 0x7FB00EFBCF40>, <PIL.JpegImagePlugin.JpegImageFile image mode=L size=400x260 at 0x7FB00EFBCF10>, <PIL.JpegImagePlugin.JpegImageFile image mode=L size=400x260 at 0x7FB00EFBCD90>, <PIL.JpegImagePlugin.JpegImageFile image mode=L size=400x260 at 0x7FB00EFBCD30>, <PIL.JpegImagePlugin.JpegImageFile image mode=L size=400x260 at 0x7FB00EFBCA30>, <PIL.JpegImagePlugin.JpegImageFile image mode=L size=400x260 at 0x7FB00EFBFFD0>, <PIL.JpegImagePlugin.JpegImageFile image mode=L size=400x260 at 0x7FB00EFBFF70>, <PIL.JpegImagePlugin.JpegImageFile image mode=L size=400x260 at 0x7FB00EFBFF10>, <PIL.JpegImagePlugin.JpegImageFile image mode=L size=400x260 at 0x7FB00EFBFEB0>, <PIL.JpegImagePlugin.JpegImageFile image mode=L size=400x260 at 0x7FB00EFBFE50>, <PIL.JpegImagePlugin.JpegImageFile image mode=L size=400x260 at 0x7FB00EFBFDF0>, <PIL.JpegImagePlugin.JpegImageFile image mode=L size=400x260 at 0x7FB00EFBFD90>, <PIL.JpegImagePlugin.JpegImageFile image mode=L size=400x260 at 0x7FB00EFBFD30>, <PIL.JpegImagePlugin.JpegImageFile image mode=L size=400x260 at 0x7FB00EFBFCD0>, <PIL.JpegImagePlugin.JpegImageFile image mode=L size=400x260 at 0x7FB00EFBFC70>, <PIL.JpegImagePlugin.JpegImageFile image mode=L size=400x260 at 0x7FB00EFBFC10>, <PIL.JpegImagePlugin.JpegImageFile image mode=L size=400x260 at 0x7FB00EFBFBB0>, <PIL.JpegImagePlugin.JpegImageFile image mode=L size=400x260 at 0x7FB00EFBFB50>, <PIL.JpegImagePlugin.JpegImageFile image mode=L size=400x260 at 0x7FB00EFBFAF0>, <PIL.JpegImagePlugin.JpegImageFile image mode=L size=400x260 at 0x7FB00EFBFA90>, <PIL.JpegImagePlugin.JpegImageFile image mode=L size=400x260 at 0x7FB00EFBFA30>, <PIL.JpegImagePlugin.JpegImageFile image mode=L size=400x260 at 0x7FB00EFBF9D0>, <PIL.JpegImagePlugin.JpegImageFile image mode=L size=400x260 at 0x7FB00EFBF970>, <PIL.JpegImagePlugin.JpegImageFile image mode=L size=400x260 at 0x7FB00EFBF910>, <PIL.JpegImagePlugin.JpegImageFile image mode=L size=400x260 at 0x7FB00EFBF8B0>, <PIL.JpegImagePlugin.JpegImageFile image mode=L size=400x260 at 0x7FB00EFBF850>, <PIL.JpegImagePlugin.JpegImageFile image mode=L size=400x260 at 0x7FB00EFBF7F0>, <PIL.JpegImagePlugin.JpegImageFile image mode=L size=400x260 at 0x7FB00EFBF220>, <PIL.JpegImagePlugin.JpegImageFile image mode=L size=400x260 at 0x7FB00EFBF1C0>, <PIL.JpegImagePlugin.JpegImageFile image mode=L size=400x260 at 0x7FB00EFBF160>, <PIL.JpegImagePlugin.JpegImageFile image mode=L size=400x260 at 0x7FB00EFBF100>, <PIL.JpegImagePlugin.JpegImageFile image mode=L size=400x260 at 0x7FB00EFBF0A0>, <PIL.JpegImagePlugin.JpegImageFile image mode=L size=400x260 at 0x7FB00EFBF040>, <PIL.JpegImagePlugin.JpegImageFile image mode=L size=400x260 at 0x7FB00EFBEFE0>, <PIL.JpegImagePlugin.JpegImageFile image mode=L size=400x260 at 0x7FB00EFBEF80>, <PIL.JpegImagePlugin.JpegImageFile image mode=L size=400x260 at 0x7FB00EFBEF20>, <PIL.JpegImagePlugin.JpegImageFile image mode=L size=400x260 at 0x7FB00EFBEEC0>, <PIL.JpegImagePlugin.JpegImageFile image mode=L size=400x260 at 0x7FB00EFBEE60>, <PIL.JpegImagePlugin.JpegImageFile image mode=L size=400x260 at 0x7FB00EFBEE00>, <PIL.JpegImagePlugin.JpegImageFile image mode=L size=400x260 at 0x7FB00EFBEDA0>, <PIL.JpegImagePlugin.JpegImageFile image mode=L size=400x260 at 0x7FB00EFBED40>, <PIL.JpegImagePlugin.JpegImageFile image mode=L size=400x260 at 0x7FB00EFBECE0>, <PIL.JpegImagePlugin.JpegImageFile image mode=L size=400x260 at 0x7FB00EFBEC80>, <PIL.JpegImagePlugin.JpegImageFile image mode=L size=400x260 at 0x7FB00EFBEC20>, <PIL.JpegImagePlugin.JpegImageFile image mode=L size=400x260 at 0x7FB00EFBEBC0>, <PIL.JpegImagePlugin.JpegImageFile image mode=L size=400x260 at 0x7FB00EFBEB60>, <PIL.JpegImagePlugin.JpegImageFile image mode=L size=400x260 at 0x7FB00EFBEB00>, <PIL.JpegImagePlugin.JpegImageFile image mode=L size=400x260 at 0x7FB00EFBEAA0>, <PIL.JpegImagePlugin.JpegImageFile image mode=L size=400x260 at 0x7FB00EFBEA40>, <PIL.JpegImagePlugin.JpegImageFile image mode=L size=400x260 at 0x7FB00EFBE9E0>, <PIL.JpegImagePlugin.JpegImageFile image mode=L size=400x260 at 0x7FB00EFBE980>, <PIL.JpegImagePlugin.JpegImageFile image mode=L size=400x260 at 0x7FB00EFBE920>, <PIL.JpegImagePlugin.JpegImageFile image mode=L size=400x260 at 0x7FB00EFBE8C0>, <PIL.JpegImagePlugin.JpegImageFile image mode=L size=400x260 at 0x7FB00EFBE860>, <PIL.JpegImagePlugin.JpegImageFile image mode=L size=400x260 at 0x7FB00EFBE800>, <PIL.JpegImagePlugin.JpegImageFile image mode=L size=400x260 at 0x7FB00EFBE7A0>, <PIL.JpegImagePlugin.JpegImageFile image mode=L size=400x260 at 0x7FB00EFBE740>, <PIL.JpegImagePlugin.JpegImageFile image mode=L size=400x260 at 0x7FB00EFBE6E0>, <PIL.JpegImagePlugin.JpegImageFile image mode=L size=400x260 at 0x7FB00EFBE680>, <PIL.JpegImagePlugin.JpegImageFile image mode=L size=400x260 at 0x7FB00EFBE230>, <PIL.JpegImagePlugin.JpegImageFile image mode=L size=400x260 at 0x7FB00EFBE1D0>, <PIL.JpegImagePlugin.JpegImageFile image mode=L size=400x260 at 0x7FB00EFBE170>, <PIL.JpegImagePlugin.JpegImageFile image mode=L size=400x260 at 0x7FB00EFBE110>, <PIL.JpegImagePlugin.JpegImageFile image mode=L size=400x260 at 0x7FB00EFBE0B0>, <PIL.JpegImagePlugin.JpegImageFile image mode=L size=400x260 at 0x7FB00EFBE050>, <PIL.JpegImagePlugin.JpegImageFile image mode=L size=400x260 at 0x7FB00EFBDFF0>, <PIL.JpegImagePlugin.JpegImageFile image mode=L size=400x260 at 0x7FB00EFBDF90>, <PIL.JpegImagePlugin.JpegImageFile image mode=L size=400x260 at 0x7FB00EFBDF30>, <PIL.JpegImagePlugin.JpegImageFile image mode=L size=400x260 at 0x7FB00EFBDED0>, <PIL.JpegImagePlugin.JpegImageFile image mode=L size=400x260 at 0x7FB00EFBDE70>, <PIL.JpegImagePlugin.JpegImageFile image mode=L size=400x260 at 0x7FB00EFBDE10>, <PIL.JpegImagePlugin.JpegImageFile image mode=L size=400x260 at 0x7FB00EFBDDB0>, <PIL.JpegImagePlugin.JpegImageFile image mode=L size=400x260 at 0x7FB00EFBDD50>, <PIL.JpegImagePlugin.JpegImageFile image mode=L size=400x260 at 0x7FB00EFBDCF0>, <PIL.JpegImagePlugin.JpegImageFile image mode=L size=400x260 at 0x7FB00EFBDC90>, <PIL.JpegImagePlugin.JpegImageFile image mode=L size=400x260 at 0x7FB00EFBDA20>, <PIL.JpegImagePlugin.JpegImageFile image mode=L size=400x260 at 0x7FB00EFBD9C0>, <PIL.JpegImagePlugin.JpegImageFile image mode=L size=400x260 at 0x7FB00EFBD960>, <PIL.JpegImagePlugin.JpegImageFile image mode=L size=400x260 at 0x7FB00EFBD900>, <PIL.JpegImagePlugin.JpegImageFile image mode=L size=400x260 at 0x7FB00EFBD8A0>, <PIL.JpegImagePlugin.JpegImageFile image mode=L size=400x260 at 0x7FB00EFBD840>, <PIL.JpegImagePlugin.JpegImageFile image mode=L size=400x260 at 0x7FB00EFBD570>, <PIL.JpegImagePlugin.JpegImageFile image mode=L size=400x260 at 0x7FB00EFBD720>, <PIL.JpegImagePlugin.JpegImageFile image mode=L size=400x260 at 0x7FB00EFBD0F0>, <PIL.JpegImagePlugin.JpegImageFile image mode=L size=400x260 at 0x7FB00EFBD180>, <PIL.JpegImagePlugin.JpegImageFile image mode=L size=400x260 at 0x7FB00EFBD1E0>, <PIL.JpegImagePlugin.JpegImageFile image mode=L size=400x260 at 0x7FB00EFBCC40>, <PIL.JpegImagePlugin.JpegImageFile image mode=L size=400x260 at 0x7FB00EFBD810>, <PIL.JpegImagePlugin.JpegImageFile image mode=L size=400x260 at 0x7FB00EFBD7B0>, <PIL.JpegImagePlugin.JpegImageFile image mode=L size=400x260 at 0x7FB00EFBD5A0>, <PIL.JpegImagePlugin.JpegImageFile image mode=L size=400x260 at 0x7FB00EFBD600>, <PIL.JpegImagePlugin.JpegImageFile image mode=L size=400x260 at 0x7FB00EFBD630>, <PIL.JpegImagePlugin.JpegImageFile image mode=L size=400x260 at 0x7FB0B56700A0>, <PIL.JpegImagePlugin.JpegImageFile image mode=L size=400x260 at 0x7FB0B5670100>, <PIL.JpegImagePlugin.JpegImageFile image mode=L size=400x260 at 0x7FB0B5670160>, <PIL.JpegImagePlugin.JpegImageFile image mode=L size=400x260 at 0x7FB0B56701C0>, <PIL.JpegImagePlugin.JpegImageFile image mode=L size=400x260 at 0x7FB0B5670220>, <PIL.JpegImagePlugin.JpegImageFile image mode=L size=400x260 at 0x7FB0B5670280>, <PIL.JpegImagePlugin.JpegImageFile image mode=L size=400x260 at 0x7FB0B56702E0>, <PIL.JpegImagePlugin.JpegImageFile image mode=L size=400x260 at 0x7FB0B5670340>, <PIL.JpegImagePlugin.JpegImageFile image mode=L size=400x260 at 0x7FB0B56703A0>, <PIL.JpegImagePlugin.JpegImageFile image mode=L size=400x260 at 0x7FB0B5670400>, <PIL.JpegImagePlugin.JpegImageFile image mode=L size=400x260 at 0x7FB0B5670460>, <PIL.JpegImagePlugin.JpegImageFile image mode=L size=400x260 at 0x7FB0B56704C0>, <PIL.JpegImagePlugin.JpegImageFile image mode=L size=400x260 at 0x7FB0B5670520>, <PIL.JpegImagePlugin.JpegImageFile image mode=L size=400x260 at 0x7FB0B5670580>, <PIL.JpegImagePlugin.JpegImageFile image mode=L size=400x260 at 0x7FB0B56705E0>, <PIL.JpegImagePlugin.JpegImageFile image mode=L size=400x260 at 0x7FB0B5670640>, <PIL.JpegImagePlugin.JpegImageFile image mode=L size=400x260 at 0x7FB0B56706A0>, <PIL.JpegImagePlugin.JpegImageFile image mode=L size=400x260 at 0x7FB0B5670700>, <PIL.JpegImagePlugin.JpegImageFile image mode=L size=400x260 at 0x7FB0B5670760>, <PIL.JpegImagePlugin.JpegImageFile image mode=L size=400x260 at 0x7FB0B56707C0>, <PIL.JpegImagePlugin.JpegImageFile image mode=L size=400x260 at 0x7FB0B5670820>, <PIL.JpegImagePlugin.JpegImageFile image mode=L size=400x260 at 0x7FB0B5670880>, <PIL.JpegImagePlugin.JpegImageFile image mode=L size=400x260 at 0x7FB0B56708E0>, <PIL.JpegImagePlugin.JpegImageFile image mode=L size=400x260 at 0x7FB0B5670940>, <PIL.JpegImagePlugin.JpegImageFile image mode=L size=400x260 at 0x7FB0B56709A0>, <PIL.JpegImagePlugin.JpegImageFile image mode=L size=400x260 at 0x7FB0B5670A00>, <PIL.JpegImagePlugin.JpegImageFile image mode=L size=400x260 at 0x7FB0B5670A60>, <PIL.JpegImagePlugin.JpegImageFile image mode=L size=400x260 at 0x7FB0B5670AC0>, <PIL.JpegImagePlugin.JpegImageFile image mode=L size=400x260 at 0x7FB0B5670B20>, <PIL.JpegImagePlugin.JpegImageFile image mode=L size=400x260 at 0x7FB0B5670B80>, <PIL.JpegImagePlugin.JpegImageFile image mode=L size=400x260 at 0x7FB0B5670BE0>, <PIL.JpegImagePlugin.JpegImageFile image mode=L size=400x260 at 0x7FB0B5670C40>, <PIL.JpegImagePlugin.JpegImageFile image mode=L size=400x260 at 0x7FB0B5670CA0>, <PIL.JpegImagePlugin.JpegImageFile image mode=L size=400x260 at 0x7FB0B5670D00>, <PIL.JpegImagePlugin.JpegImageFile image mode=L size=400x260 at 0x7FB0B5670D60>, <PIL.JpegImagePlugin.JpegImageFile image mode=L size=400x260 at 0x7FB0B5670DC0>, <PIL.JpegImagePlugin.JpegImageFile image mode=L size=400x260 at 0x7FB0B5670E20>, <PIL.JpegImagePlugin.JpegImageFile image mode=L size=400x260 at 0x7FB0B5670E80>, <PIL.JpegImagePlugin.JpegImageFile image mode=L size=400x260 at 0x7FB0B5670EE0>, <PIL.JpegImagePlugin.JpegImageFile image mode=L size=400x260 at 0x7FB0B5670F40>, <PIL.JpegImagePlugin.JpegImageFile image mode=L size=400x260 at 0x7FB0B5670FA0>, <PIL.JpegImagePlugin.JpegImageFile image mode=L size=400x260 at 0x7FB0B5671000>, <PIL.JpegImagePlugin.JpegImageFile image mode=L size=400x260 at 0x7FB0B5671060>, <PIL.JpegImagePlugin.JpegImageFile image mode=L size=400x260 at 0x7FB0B56710C0>, <PIL.JpegImagePlugin.JpegImageFile image mode=L size=400x260 at 0x7FB0B5671120>, <PIL.JpegImagePlugin.JpegImageFile image mode=L size=400x260 at 0x7FB0B5671180>, <PIL.JpegImagePlugin.JpegImageFile image mode=L size=400x260 at 0x7FB0B56711E0>, <PIL.JpegImagePlugin.JpegImageFile image mode=L size=400x260 at 0x7FB0B5671240>, <PIL.JpegImagePlugin.JpegImageFile image mode=L size=400x260 at 0x7FB0B56712A0>, <PIL.JpegImagePlugin.JpegImageFile image mode=L size=400x260 at 0x7FB0B5671300>, <PIL.JpegImagePlugin.JpegImageFile image mode=L size=400x260 at 0x7FB0B5671360>, <PIL.JpegImagePlugin.JpegImageFile image mode=L size=400x260 at 0x7FB0B56713C0>, <PIL.JpegImagePlugin.JpegImageFile image mode=L size=400x260 at 0x7FB0B5671420>, <PIL.JpegImagePlugin.JpegImageFile image mode=L size=400x260 at 0x7FB0B5671480>, <PIL.JpegImagePlugin.JpegImageFile image mode=L size=400x260 at 0x7FB0B56714E0>, <PIL.JpegImagePlugin.JpegImageFile image mode=L size=400x260 at 0x7FB0B5671540>, <PIL.JpegImagePlugin.JpegImageFile image mode=L size=400x260 at 0x7FB0B56715A0>, <PIL.JpegImagePlugin.JpegImageFile image mode=L size=400x260 at 0x7FB0B5671600>, <PIL.JpegImagePlugin.JpegImageFile image mode=L size=400x260 at 0x7FB0B5671660>, <PIL.JpegImagePlugin.JpegImageFile image mode=L size=400x260 at 0x7FB0B56716C0>, <PIL.JpegImagePlugin.JpegImageFile image mode=L size=400x260 at 0x7FB0B5671720>, <PIL.JpegImagePlugin.JpegImageFile image mode=L size=400x260 at 0x7FB0B5671780>, <PIL.JpegImagePlugin.JpegImageFile image mode=L size=400x260 at 0x7FB0B56717E0>, <PIL.JpegImagePlugin.JpegImageFile image mode=L size=400x260 at 0x7FB0B5671840>, <PIL.JpegImagePlugin.JpegImageFile image mode=L size=400x260 at 0x7FB0B56718A0>, <PIL.JpegImagePlugin.JpegImageFile image mode=L size=400x260 at 0x7FB0B5671900>, <PIL.JpegImagePlugin.JpegImageFile image mode=L size=400x260 at 0x7FB0B5671960>, <PIL.JpegImagePlugin.JpegImageFile image mode=L size=400x260 at 0x7FB0B56719C0>, <PIL.JpegImagePlugin.JpegImageFile image mode=L size=400x260 at 0x7FB0B5671A20>, <PIL.JpegImagePlugin.JpegImageFile image mode=L size=400x260 at 0x7FB0B5671A80>, <PIL.JpegImagePlugin.JpegImageFile image mode=L size=400x260 at 0x7FB0B5671AE0>, <PIL.JpegImagePlugin.JpegImageFile image mode=L size=400x260 at 0x7FB0B5671B40>, <PIL.JpegImagePlugin.JpegImageFile image mode=L size=400x260 at 0x7FB0B5671BA0>, <PIL.JpegImagePlugin.JpegImageFile image mode=L size=400x260 at 0x7FB0B5671C00>, <PIL.JpegImagePlugin.JpegImageFile image mode=L size=400x260 at 0x7FB0B5671C60>, <PIL.JpegImagePlugin.JpegImageFile image mode=L size=400x260 at 0x7FB0B5671CC0>, <PIL.JpegImagePlugin.JpegImageFile image mode=L size=400x260 at 0x7FB0B5671D20>, <PIL.JpegImagePlugin.JpegImageFile image mode=L size=400x260 at 0x7FB0B5671D80>, <PIL.JpegImagePlugin.JpegImageFile image mode=L size=400x260 at 0x7FB0B5671DE0>, <PIL.JpegImagePlugin.JpegImageFile image mode=L size=400x260 at 0x7FB0B5671E40>, <PIL.JpegImagePlugin.JpegImageFile image mode=L size=400x260 at 0x7FB0B5671EA0>, <PIL.JpegImagePlugin.JpegImageFile image mode=L size=400x260 at 0x7FB0B5671F00>, <PIL.JpegImagePlugin.JpegImageFile image mode=L size=400x260 at 0x7FB0B5671F60>, <PIL.JpegImagePlugin.JpegImageFile image mode=L size=400x260 at 0x7FB0B5671FC0>, <PIL.JpegImagePlugin.JpegImageFile image mode=L size=400x260 at 0x7FB0B5672020>, <PIL.JpegImagePlugin.JpegImageFile image mode=L size=400x260 at 0x7FB0B5672080>, <PIL.JpegImagePlugin.JpegImageFile image mode=L size=400x260 at 0x7FB0B56720E0>, <PIL.JpegImagePlugin.JpegImageFile image mode=L size=400x260 at 0x7FB0B5672140>, <PIL.JpegImagePlugin.JpegImageFile image mode=L size=400x260 at 0x7FB0B56721A0>, <PIL.JpegImagePlugin.JpegImageFile image mode=L size=400x260 at 0x7FB0B5672200>, <PIL.JpegImagePlugin.JpegImageFile image mode=L size=400x260 at 0x7FB0B5672260>, <PIL.JpegImagePlugin.JpegImageFile image mode=L size=400x260 at 0x7FB0B56722C0>, <PIL.JpegImagePlugin.JpegImageFile image mode=L size=400x260 at 0x7FB0B5672320>, <PIL.JpegImagePlugin.JpegImageFile image mode=L size=400x260 at 0x7FB0B5672380>, <PIL.JpegImagePlugin.JpegImageFile image mode=L size=400x260 at 0x7FB0B56723E0>, <PIL.JpegImagePlugin.JpegImageFile image mode=L size=400x260 at 0x7FB0B5672440>, <PIL.JpegImagePlugin.JpegImageFile image mode=L size=400x260 at 0x7FB0B56724A0>, <PIL.JpegImagePlugin.JpegImageFile image mode=L size=400x260 at 0x7FB0B5672500>, <PIL.JpegImagePlugin.JpegImageFile image mode=L size=400x260 at 0x7FB0B5672560>, <PIL.JpegImagePlugin.JpegImageFile image mode=L size=400x260 at 0x7FB0B56725C0>, <PIL.JpegImagePlugin.JpegImageFile image mode=L size=400x260 at 0x7FB0B5672620>, <PIL.JpegImagePlugin.JpegImageFile image mode=L size=400x260 at 0x7FB0B5672680>, <PIL.JpegImagePlugin.JpegImageFile image mode=L size=400x260 at 0x7FB0B56726E0>, <PIL.JpegImagePlugin.JpegImageFile image mode=L size=400x260 at 0x7FB0B5672740>, <PIL.JpegImagePlugin.JpegImageFile image mode=L size=400x260 at 0x7FB0B56727A0>, <PIL.JpegImagePlugin.JpegImageFile image mode=L size=400x260 at 0x7FB0B5672800>, <PIL.JpegImagePlugin.JpegImageFile image mode=L size=400x260 at 0x7FB0B5672860>, <PIL.JpegImagePlugin.JpegImageFile image mode=L size=400x260 at 0x7FB0B56728C0>, <PIL.JpegImagePlugin.JpegImageFile image mode=L size=400x260 at 0x7FB0B5672920>, <PIL.JpegImagePlugin.JpegImageFile image mode=L size=400x260 at 0x7FB0B5672980>, <PIL.JpegImagePlugin.JpegImageFile image mode=L size=400x260 at 0x7FB0B56729E0>, <PIL.JpegImagePlugin.JpegImageFile image mode=L size=400x260 at 0x7FB0B5672A40>, <PIL.JpegImagePlugin.JpegImageFile image mode=L size=400x260 at 0x7FB0B5672AA0>, <PIL.JpegImagePlugin.JpegImageFile image mode=L size=400x260 at 0x7FB0B5672B00>, <PIL.JpegImagePlugin.JpegImageFile image mode=L size=400x260 at 0x7FB0B5672B60>, <PIL.JpegImagePlugin.JpegImageFile image mode=L size=400x260 at 0x7FB0B5672BC0>, <PIL.JpegImagePlugin.JpegImageFile image mode=L size=400x260 at 0x7FB0B5672C20>, <PIL.JpegImagePlugin.JpegImageFile image mode=L size=400x260 at 0x7FB0B5672C80>, <PIL.JpegImagePlugin.JpegImageFile image mode=L size=400x260 at 0x7FB0B5672CE0>, <PIL.JpegImagePlugin.JpegImageFile image mode=L size=400x260 at 0x7FB0B5672D40>, <PIL.JpegImagePlugin.JpegImageFile image mode=L size=400x260 at 0x7FB0B5672DA0>, <PIL.JpegImagePlugin.JpegImageFile image mode=L size=400x260 at 0x7FB0B5672E00>, <PIL.JpegImagePlugin.JpegImageFile image mode=L size=400x260 at 0x7FB0B5672E60>, <PIL.JpegImagePlugin.JpegImageFile image mode=L size=400x260 at 0x7FB0B5672EC0>, <PIL.JpegImagePlugin.JpegImageFile image mode=L size=400x260 at 0x7FB0B5672F20>, <PIL.JpegImagePlugin.JpegImageFile image mode=L size=400x260 at 0x7FB0B5672F80>, <PIL.JpegImagePlugin.JpegImageFile image mode=L size=400x260 at 0x7FB0B5672FE0>, <PIL.JpegImagePlugin.JpegImageFile image mode=L size=400x260 at 0x7FB0B5673040>, <PIL.JpegImagePlugin.JpegImageFile image mode=L size=400x260 at 0x7FB0B56730A0>, <PIL.JpegImagePlugin.JpegImageFile image mode=L size=400x260 at 0x7FB0B5673100>, <PIL.JpegImagePlugin.JpegImageFile image mode=L size=400x260 at 0x7FB0B5673160>, <PIL.JpegImagePlugin.JpegImageFile image mode=L size=400x260 at 0x7FB0B56731C0>, <PIL.JpegImagePlugin.JpegImageFile image mode=L size=400x260 at 0x7FB0B5673220>, <PIL.JpegImagePlugin.JpegImageFile image mode=L size=400x260 at 0x7FB0B5673280>, <PIL.JpegImagePlugin.JpegImageFile image mode=L size=400x260 at 0x7FB0B56732E0>, <PIL.JpegImagePlugin.JpegImageFile image mode=L size=400x260 at 0x7FB0B5673340>, <PIL.JpegImagePlugin.JpegImageFile image mode=L size=400x260 at 0x7FB0B56733A0>, <PIL.JpegImagePlugin.JpegImageFile image mode=L size=400x260 at 0x7FB0B5673400>, <PIL.JpegImagePlugin.JpegImageFile image mode=L size=400x260 at 0x7FB0B5673460>, <PIL.JpegImagePlugin.JpegImageFile image mode=L size=400x260 at 0x7FB0B56734C0>, <PIL.JpegImagePlugin.JpegImageFile image mode=L size=400x260 at 0x7FB0B5673520>, <PIL.JpegImagePlugin.JpegImageFile image mode=L size=400x260 at 0x7FB0B5673580>, <PIL.JpegImagePlugin.JpegImageFile image mode=L size=400x260 at 0x7FB0B56735E0>, <PIL.JpegImagePlugin.JpegImageFile image mode=L size=400x260 at 0x7FB0B5673640>, <PIL.JpegImagePlugin.JpegImageFile image mode=L size=400x260 at 0x7FB0B56736A0>, <PIL.JpegImagePlugin.JpegImageFile image mode=L size=400x260 at 0x7FB0B5673700>, <PIL.JpegImagePlugin.JpegImageFile image mode=L size=400x260 at 0x7FB0B5673760>, <PIL.JpegImagePlugin.JpegImageFile image mode=L size=400x260 at 0x7FB0B56737C0>, <PIL.JpegImagePlugin.JpegImageFile image mode=L size=400x260 at 0x7FB0B5673820>, <PIL.JpegImagePlugin.JpegImageFile image mode=L size=400x260 at 0x7FB0B5673880>, <PIL.JpegImagePlugin.JpegImageFile image mode=L size=400x260 at 0x7FB0B56738E0>, <PIL.JpegImagePlugin.JpegImageFile image mode=L size=400x260 at 0x7FB0B5673940>, <PIL.JpegImagePlugin.JpegImageFile image mode=L size=400x260 at 0x7FB0B56739A0>, <PIL.JpegImagePlugin.JpegImageFile image mode=L size=400x260 at 0x7FB0B5673A00>, <PIL.JpegImagePlugin.JpegImageFile image mode=L size=400x260 at 0x7FB0B5673A60>, <PIL.JpegImagePlugin.JpegImageFile image mode=L size=400x260 at 0x7FB0B5673AC0>, <PIL.JpegImagePlugin.JpegImageFile image mode=L size=400x260 at 0x7FB0B5673B20>, <PIL.JpegImagePlugin.JpegImageFile image mode=L size=400x260 at 0x7FB0B5673B80>, <PIL.JpegImagePlugin.JpegImageFile image mode=L size=400x260 at 0x7FB0B5673BE0>, <PIL.JpegImagePlugin.JpegImageFile image mode=L size=400x260 at 0x7FB0B5673C40>, <PIL.JpegImagePlugin.JpegImageFile image mode=L size=400x260 at 0x7FB0B5673CA0>, <PIL.JpegImagePlugin.JpegImageFile image mode=L size=400x260 at 0x7FB0B5673D00>, <PIL.JpegImagePlugin.JpegImageFile image mode=L size=400x260 at 0x7FB0B5673D60>, <PIL.JpegImagePlugin.JpegImageFile image mode=L size=400x260 at 0x7FB0B5673DC0>, <PIL.JpegImagePlugin.JpegImageFile image mode=L size=400x260 at 0x7FB0B5673E20>, <PIL.JpegImagePlugin.JpegImageFile image mode=L size=400x260 at 0x7FB0B5673E80>, <PIL.JpegImagePlugin.JpegImageFile image mode=L size=400x260 at 0x7FB0B5673EE0>, <PIL.JpegImagePlugin.JpegImageFile image mode=L size=400x260 at 0x7FB0B5673F40>, <PIL.JpegImagePlugin.JpegImageFile image mode=L size=400x260 at 0x7FB0B5673FA0>, <PIL.JpegImagePlugin.JpegImageFile image mode=L size=400x260 at 0x7FB0B5673FD0>, <PIL.JpegImagePlugin.JpegImageFile image mode=L size=400x260 at 0x7FB0B56E00A0>, <PIL.JpegImagePlugin.JpegImageFile image mode=L size=400x260 at 0x7FB0B56E0100>, <PIL.JpegImagePlugin.JpegImageFile image mode=L size=400x260 at 0x7FB0B56E0160>, <PIL.JpegImagePlugin.JpegImageFile image mode=L size=400x260 at 0x7FB0B56E01C0>, <PIL.JpegImagePlugin.JpegImageFile image mode=L size=400x260 at 0x7FB0B56E0220>, <PIL.JpegImagePlugin.JpegImageFile image mode=L size=400x260 at 0x7FB0B56E0280>, <PIL.JpegImagePlugin.JpegImageFile image mode=L size=400x260 at 0x7FB0B56E02E0>, <PIL.JpegImagePlugin.JpegImageFile image mode=L size=400x260 at 0x7FB0B56E0340>, <PIL.JpegImagePlugin.JpegImageFile image mode=L size=400x260 at 0x7FB0B56E03A0>, <PIL.JpegImagePlugin.JpegImageFile image mode=L size=400x260 at 0x7FB0B56E0400>, <PIL.JpegImagePlugin.JpegImageFile image mode=L size=400x260 at 0x7FB0B56E0460>, <PIL.JpegImagePlugin.JpegImageFile image mode=L size=400x260 at 0x7FB0B56E04C0>, <PIL.JpegImagePlugin.JpegImageFile image mode=L size=400x260 at 0x7FB0B56E0520>, <PIL.JpegImagePlugin.JpegImageFile image mode=L size=400x260 at 0x7FB0B56E0580>, <PIL.JpegImagePlugin.JpegImageFile image mode=L size=400x260 at 0x7FB0B56E05E0>, <PIL.JpegImagePlugin.JpegImageFile image mode=L size=400x260 at 0x7FB0B56E0640>, <PIL.JpegImagePlugin.JpegImageFile image mode=L size=400x260 at 0x7FB0B56E06A0>, <PIL.JpegImagePlugin.JpegImageFile image mode=L size=400x260 at 0x7FB0B56E0700>, <PIL.JpegImagePlugin.JpegImageFile image mode=L size=400x260 at 0x7FB0B56E0760>, <PIL.JpegImagePlugin.JpegImageFile image mode=L size=400x260 at 0x7FB0B56E07C0>, <PIL.JpegImagePlugin.JpegImageFile image mode=L size=400x260 at 0x7FB0B56E0820>, <PIL.JpegImagePlugin.JpegImageFile image mode=L size=400x260 at 0x7FB0B56E0880>, <PIL.JpegImagePlugin.JpegImageFile image mode=L size=400x260 at 0x7FB0B56E08E0>, <PIL.JpegImagePlugin.JpegImageFile image mode=L size=400x260 at 0x7FB0B56E0940>, <PIL.JpegImagePlugin.JpegImageFile image mode=L size=400x260 at 0x7FB0B56E09A0>, <PIL.JpegImagePlugin.JpegImageFile image mode=L size=400x260 at 0x7FB0B56E0A00>, <PIL.JpegImagePlugin.JpegImageFile image mode=L size=400x260 at 0x7FB0B56E0A60>, <PIL.JpegImagePlugin.JpegImageFile image mode=L size=400x260 at 0x7FB0B56E0AC0>, <PIL.JpegImagePlugin.JpegImageFile image mode=L size=400x260 at 0x7FB0B56E0B20>, <PIL.JpegImagePlugin.JpegImageFile image mode=L size=400x260 at 0x7FB0B56E0B80>, <PIL.JpegImagePlugin.JpegImageFile image mode=L size=400x260 at 0x7FB0B56E0BE0>, <PIL.JpegImagePlugin.JpegImageFile image mode=L size=400x260 at 0x7FB0B56E0C40>, <PIL.JpegImagePlugin.JpegImageFile image mode=L size=400x260 at 0x7FB0B56E0CA0>, <PIL.JpegImagePlugin.JpegImageFile image mode=L size=400x260 at 0x7FB0B56E0D00>, <PIL.JpegImagePlugin.JpegImageFile image mode=L size=400x260 at 0x7FB0B56E0D60>, <PIL.JpegImagePlugin.JpegImageFile image mode=L size=400x260 at 0x7FB0B56E0DC0>, <PIL.JpegImagePlugin.JpegImageFile image mode=L size=400x260 at 0x7FB0B56E0E20>, <PIL.JpegImagePlugin.JpegImageFile image mode=L size=400x260 at 0x7FB0B56E0E80>, <PIL.JpegImagePlugin.JpegImageFile image mode=L size=400x260 at 0x7FB0B56E0EE0>, <PIL.JpegImagePlugin.JpegImageFile image mode=L size=400x260 at 0x7FB0B56E0F40>, <PIL.JpegImagePlugin.JpegImageFile image mode=L size=400x260 at 0x7FB0B56E0FA0>, <PIL.JpegImagePlugin.JpegImageFile image mode=L size=400x260 at 0x7FB0B56E1000>, <PIL.JpegImagePlugin.JpegImageFile image mode=L size=400x260 at 0x7FB0B56E1060>, <PIL.JpegImagePlugin.JpegImageFile image mode=L size=400x260 at 0x7FB0B56E10C0>, <PIL.JpegImagePlugin.JpegImageFile image mode=L size=400x260 at 0x7FB0B56E1120>, <PIL.JpegImagePlugin.JpegImageFile image mode=L size=400x260 at 0x7FB0B56E1180>, <PIL.JpegImagePlugin.JpegImageFile image mode=L size=400x260 at 0x7FB0B56E11E0>, <PIL.JpegImagePlugin.JpegImageFile image mode=L size=400x260 at 0x7FB0B56E1240>, <PIL.JpegImagePlugin.JpegImageFile image mode=L size=400x260 at 0x7FB0B56E12A0>, <PIL.JpegImagePlugin.JpegImageFile image mode=L size=400x260 at 0x7FB0B56E1300>, <PIL.JpegImagePlugin.JpegImageFile image mode=L size=400x260 at 0x7FB0B56E1360>, <PIL.JpegImagePlugin.JpegImageFile image mode=L size=400x260 at 0x7FB0B56E13C0>, <PIL.JpegImagePlugin.JpegImageFile image mode=L size=400x260 at 0x7FB0B56E1420>, <PIL.JpegImagePlugin.JpegImageFile image mode=L size=400x260 at 0x7FB0B56E1480>, <PIL.JpegImagePlugin.JpegImageFile image mode=L size=400x260 at 0x7FB0B56E14E0>, <PIL.JpegImagePlugin.JpegImageFile image mode=L size=400x260 at 0x7FB0B56E1540>, <PIL.JpegImagePlugin.JpegImageFile image mode=L size=400x260 at 0x7FB0B56E15A0>, <PIL.JpegImagePlugin.JpegImageFile image mode=L size=400x260 at 0x7FB0B56E1600>, <PIL.JpegImagePlugin.JpegImageFile image mode=L size=400x260 at 0x7FB0B56E1660>, <PIL.JpegImagePlugin.JpegImageFile image mode=L size=400x260 at 0x7FB0B56E16C0>, <PIL.JpegImagePlugin.JpegImageFile image mode=L size=400x260 at 0x7FB0B56E1720>, <PIL.JpegImagePlugin.JpegImageFile image mode=L size=400x260 at 0x7FB0B56E1780>, <PIL.JpegImagePlugin.JpegImageFile image mode=L size=400x260 at 0x7FB0B56E17E0>, <PIL.JpegImagePlugin.JpegImageFile image mode=L size=400x260 at 0x7FB0B56E1840>, <PIL.JpegImagePlugin.JpegImageFile image mode=L size=400x260 at 0x7FB0B56E18A0>, <PIL.JpegImagePlugin.JpegImageFile image mode=L size=400x260 at 0x7FB0B56E1900>]\n"
     ]
    },
    {
     "name": "stderr",
     "output_type": "stream",
     "text": [
      "/home/michaelfaivre/.pyenv/versions/3.10.12/envs/artefact/lib/python3.10/site-packages/keras/utils/image_utils.py:409: UserWarning: grayscale is deprecated. Please use color_mode = \"grayscale\"\n",
      "  warnings.warn(\n"
     ]
    }
   ],
   "source": [
    "# load both open and close jpgs\n",
    "import os\n",
    "\n",
    "def load_images(folder):\n",
    "    images = []\n",
    "    for filename in os.listdir(folder):\n",
    "        path_filename = os.path.join(folder, filename)\n",
    "        ##print(path_filename)\n",
    "        if path_filename.split('.')[1] == 'jpg':\n",
    "            img = load_img(path_filename, grayscale=True)\n",
    "            ##print(img.size)\n",
    "            if img is not None:\n",
    "                images.append(img)\n",
    "    return images\n",
    "\n",
    "open_images_train = load_images('open/train')\n",
    "open_images_test = load_images('open/test')\n",
    "close_images = load_images('close/')\n",
    "\n",
    "print(open_images_train)\n",
    "\n"
   ]
  },
  {
   "cell_type": "code",
   "execution_count": 95,
   "metadata": {},
   "outputs": [
    {
     "data": {
      "text/plain": [
       "(346, 260, 400)"
      ]
     },
     "execution_count": 95,
     "metadata": {},
     "output_type": "execute_result"
    }
   ],
   "source": [
    "## convert images to arrays\n",
    "\n",
    "def convert_images_to_array(images):\n",
    "    X = np.array([img_to_array(img) for img in images]) ##=> 4th dim à 1\n",
    "    ## skip 4th dimension\n",
    "    X = X[:,:,:,0]\n",
    "    return X\n",
    "\n",
    "X_open_train = convert_images_to_array(open_images_train)\n",
    "X_open_train.shape\n",
    "X_open_test = convert_images_to_array(open_images_test)\n",
    "X_open_test.shape\n",
    "X_close = convert_images_to_array(close_images)\n",
    "X_close.shape"
   ]
  },
  {
   "cell_type": "code",
   "execution_count": 96,
   "metadata": {},
   "outputs": [
    {
     "name": "stdout",
     "output_type": "stream",
     "text": [
      "[0 0 0 0 0 0 0 0 0 0 0 0 0 0 0 0 0 0 0 0 0 0 0 0 0 0 0 0 0 0 0 0 0 0 0 0 0\n",
      " 0 0 0 0 0 0 0 0 0 0 0 0 0 0 0 0 0 0 0 0 0 0 0 0 0 0 0 0 0 0 0 0 0 0 0 0 0\n",
      " 0 0 0 0 0 0 0 0 0 0 0 0 0 0 0 0 0 0 0 0 0 0 0 0 0 0 0 0 0 0 0 0 0 0 0 0 0\n",
      " 0 0 0 0 0 0 0 0 0 0 0 0 0 0 0 0 0 0 0 0 0 0 0 0 0 0 0 0 0 0 0 0 0 0 0 0 0\n",
      " 0 0 0 0 0 0 0 0 0 0 0 0 0 0 0 0 0 0 0 0 0 0 0 0 0 0 0 0 0 0 0 0 0 0 0 0 0\n",
      " 0 0 0 0 0 0 0 0 0 0 0 0 0 0 0 0 0 0 0 0 0 0 0 0 0 0 0 0 0 0 0 0 0 0 0 0 0\n",
      " 0 0 0 0 0 0 0 0 0 0 0 0 0 0 0 0 0 0 0 0 0 0 0 0 0 0 0 0 0 0 0 0 0 0 0 0 0\n",
      " 0 0 0 0 0 0 0 0 0 0 0 0 0 0 0 0 0 0 0 0 0 0 0 0 0 0 0 0 0 0 0 0 0 0 0 0 0\n",
      " 0 0 0 0 0 0 0 0 0 0 0 0 0 0 0 0 0 0 0 0 0 0 0 0 0 0 0 0 0 0 0 0 0 0 0 0 0\n",
      " 0 0 0 0 0 0 0 0 0 0 0 0 0]\n",
      "259\n",
      "[0 0 0 0 0 0 0 0 0 0 0 0 0 0 0 0 0 0 0 0 0 0 0 0 0 0 0 0 0 0 0 0 0 0 0 0 0\n",
      " 0 0 0 0 0 0 0 0 0 0 0 0 0 0 0 0 0 0 0 0 0 0 0 0 0 0 0 0 0 0 0 0 0 0 0 0 0\n",
      " 0 0 0 0 0 0 0 0 0 0 0 0 0]\n"
     ]
    }
   ],
   "source": [
    "## to regrouper puis faire le train_test_split !!!\n",
    "\n",
    "# labels\n",
    "y_open_train = np.array([1 for i in range(0, X_open_train.shape[0])])\n",
    "y_open_test = np.array([1 for i in range(0, X_open_test.shape[0])])\n",
    "y_close = np.array([0 for i in range(0, X_close.shape[0])])\n",
    "\n",
    "print(y_close)\n",
    "\n",
    "# pour le pb de classif close/open, il faut splitter X_close et y_close en train_test\n",
    "y_close.shape\n",
    "\n",
    "ratio_train = 0.75\n",
    "idx_max_train = int(y_close.shape[0]*ratio_train)\n",
    "print(idx_max_train)\n",
    "\n",
    "X_close_train = X_close[:idx_max_train]\n",
    "X_close_test = X_close[idx_max_train:]\n",
    "y_close_train = y_close[:idx_max_train]\n",
    "y_close_test = y_close[idx_max_train:]\n",
    "\n",
    "print(y_close_test)"
   ]
  },
  {
   "cell_type": "code",
   "execution_count": 97,
   "metadata": {},
   "outputs": [
    {
     "name": "stdout",
     "output_type": "stream",
     "text": [
      "(739, 260, 400)\n",
      "(739,)\n",
      "(168, 260, 400)\n",
      "(168,)\n",
      "[0 0 0 0 0 0 0 0 0 0 0 0 0 0 0 0 0 0 0 0 0 0 0 0 0 0 0 0 0 0 0 0 0 0 0 0 0\n",
      " 0 0 0 0 0 0 0 0 0 0 0 0 0 0 0 0 0 0 0 0 0 0 0 0 0 0 0 0 0 0 0 0 0 0 0 0 0\n",
      " 0 0 0 0 0 0 0 0 0 0 0 0 0 1 1 1 1 1 1 1 1 1 1 1 1 1 1 1 1 1 1 1 1 1 1 1 1\n",
      " 1 1 1 1 1 1 1 1 1 1 1 1 1 1 1 1 1 1 1 1 1 1 1 1 1 1 1 1 1 1 1 1 1 1 1 1 1\n",
      " 1 1 1 1 1 1 1 1 1 1 1 1 1 1 1 1 1 1 1 1]\n"
     ]
    }
   ],
   "source": [
    "# concate train (resp test)) on close and open\n",
    "X_train = np.concatenate([X_close_train, X_open_train], axis=0)\n",
    "y_train = np.concatenate([y_close_train, y_open_train], axis=0)\n",
    "print(X_train.shape)\n",
    "print(y_train.shape)\n",
    "\n",
    "X_test = np.concatenate([X_close_test, X_open_test], axis=0)\n",
    "y_test = np.concatenate([y_close_test, y_open_test], axis=0)\n",
    "print(X_test.shape)\n",
    "print(y_test.shape)\n",
    "print(y_test)"
   ]
  },
  {
   "cell_type": "code",
   "execution_count": 98,
   "metadata": {},
   "outputs": [
    {
     "name": "stdout",
     "output_type": "stream",
     "text": [
      "(739, 104000)\n"
     ]
    },
    {
     "data": {
      "text/plain": [
       "(739, 104000)"
      ]
     },
     "execution_count": 98,
     "metadata": {},
     "output_type": "execute_result"
    }
   ],
   "source": [
    "# flatten and scale images\n",
    "from sklearn.preprocessing import MinMaxScaler\n",
    "\n",
    "def preproc_X_data(x_train, x_test):\n",
    "    X_flat_train = x_train.reshape(x_train.shape[0],-1)\n",
    "    X_flat_test  = x_test.reshape(x_test.shape[0],-1)\n",
    "\n",
    "    ## SCALE THE FEATURES (pixels grey levels)\n",
    "    # numeric features scaling\n",
    "    from sklearn.preprocessing import MinMaxScaler\n",
    "\n",
    "    print(X_flat_train.shape)\n",
    "\n",
    "    scaler = MinMaxScaler()\n",
    "    x_train = scaler.fit_transform(X_flat_train)\n",
    "    x_test  = scaler.transform(X_flat_test)\n",
    "\n",
    "    return x_train, x_test\n",
    "\n",
    "X_train, X_test = preproc_X_data(X_train, X_test)\n",
    "X_train.shape ## il faut trouver un moyen de réduire le nb de features = nb de pixels !!\n",
    "\n",
    "# X flattened"
   ]
  },
  {
   "cell_type": "code",
   "execution_count": 99,
   "metadata": {},
   "outputs": [],
   "source": [
    "from sklearn.decomposition import PCA\n",
    "\n",
    "pca = PCA(n_components=0.9) ##90% de variance cumulée\n",
    "X_train_PCA = pca.fit_transform(X_train)\n",
    "X_test_PCA = pca.transform(X_test)"
   ]
  },
  {
   "cell_type": "code",
   "execution_count": 100,
   "metadata": {},
   "outputs": [
    {
     "name": "stdout",
     "output_type": "stream",
     "text": [
      "Model: \"sequential_17\"\n",
      "_________________________________________________________________\n",
      " Layer (type)                Output Shape              Param #   \n",
      "=================================================================\n",
      " dense_52 (Dense)            (None, 30)                360       \n",
      "                                                                 \n",
      " dense_53 (Dense)            (None, 30)                930       \n",
      "                                                                 \n",
      " dense_54 (Dense)            (None, 1)                 31        \n",
      "                                                                 \n",
      "=================================================================\n",
      "Total params: 1,321\n",
      "Trainable params: 1,321\n",
      "Non-trainable params: 0\n",
      "_________________________________________________________________\n"
     ]
    }
   ],
   "source": [
    "## MLP binary classifier\n",
    "def binary_class_mlp(input_dim: tuple[int, ...], nb_hls: int, nb_units: int, nb_outputs: int) -> Sequential:\n",
    "    # Sequential model\n",
    "    model = Sequential()\n",
    "\n",
    "    # Input\n",
    "    model.add(Input(input_dim))\n",
    "\n",
    "    # Loop onto Hidden Layers\n",
    "    for lay in range(nb_hls):\n",
    "        model.add(Dense(nb_units, activation=\"relu\"))\n",
    "    \n",
    "    # flatten layer\n",
    "    ###mlp.add(keras.layers.Flatten()) ## !!! pas besoin !!!\n",
    "\n",
    "    # Output Layers\n",
    "    model.add(Dense(nb_outputs, activation=\"sigmoid\"))\n",
    "    return model\n",
    "\n",
    "inp_dim = X_train_PCA.shape[1]\n",
    "mlp = binary_class_mlp(input_dim=(inp_dim,),nb_hls=2, nb_units=30, nb_outputs=1)\n",
    "mlp.summary()\n",
    "\n",
    "## SANS PCA: 3E+6 params et 739 rows: que fait-on dans ce cas ??\n",
    "## Curse of dimensionality !!"
   ]
  },
  {
   "cell_type": "code",
   "execution_count": 101,
   "metadata": {},
   "outputs": [
    {
     "name": "stdout",
     "output_type": "stream",
     "text": [
      "(739, 11)\n",
      "(168, 11)\n",
      "(739,)\n",
      "(168,)\n",
      "[0 0 0 0 0 0 0 0 0 0]\n",
      "Epoch 1/25\n",
      "8/8 [==============================] - 1s 24ms/step - loss: 1.0076 - accuracy: 0.7713 - val_loss: 0.6816 - val_accuracy: 0.7619\n",
      "Epoch 2/25\n",
      "8/8 [==============================] - 0s 7ms/step - loss: 0.5448 - accuracy: 0.8376 - val_loss: 0.5547 - val_accuracy: 0.7619\n",
      "Epoch 3/25\n",
      "8/8 [==============================] - 0s 7ms/step - loss: 0.3786 - accuracy: 0.8714 - val_loss: 0.4036 - val_accuracy: 0.8631\n",
      "Epoch 4/25\n",
      "8/8 [==============================] - 0s 7ms/step - loss: 0.3010 - accuracy: 0.8958 - val_loss: 0.3845 - val_accuracy: 0.8393\n",
      "Epoch 5/25\n",
      "8/8 [==============================] - 0s 8ms/step - loss: 0.2638 - accuracy: 0.9147 - val_loss: 0.4173 - val_accuracy: 0.8333\n",
      "Epoch 6/25\n",
      "8/8 [==============================] - 0s 7ms/step - loss: 0.2328 - accuracy: 0.9283 - val_loss: 0.3971 - val_accuracy: 0.8155\n",
      "Epoch 7/25\n",
      "8/8 [==============================] - 0s 7ms/step - loss: 0.2153 - accuracy: 0.9256 - val_loss: 0.3811 - val_accuracy: 0.8214\n",
      "Epoch 8/25\n",
      "8/8 [==============================] - 0s 7ms/step - loss: 0.1987 - accuracy: 0.9391 - val_loss: 0.3693 - val_accuracy: 0.7976\n",
      "Epoch 9/25\n",
      "8/8 [==============================] - 0s 7ms/step - loss: 0.1862 - accuracy: 0.9459 - val_loss: 0.3661 - val_accuracy: 0.8214\n",
      "Epoch 10/25\n",
      "8/8 [==============================] - 0s 10ms/step - loss: 0.1733 - accuracy: 0.9445 - val_loss: 0.3745 - val_accuracy: 0.8274\n",
      "Epoch 11/25\n",
      "8/8 [==============================] - 0s 7ms/step - loss: 0.1622 - accuracy: 0.9486 - val_loss: 0.3654 - val_accuracy: 0.8274\n",
      "Epoch 12/25\n",
      "8/8 [==============================] - 0s 8ms/step - loss: 0.1574 - accuracy: 0.9472 - val_loss: 0.3662 - val_accuracy: 0.8333\n",
      "Epoch 13/25\n",
      "8/8 [==============================] - 0s 8ms/step - loss: 0.1484 - accuracy: 0.9499 - val_loss: 0.3605 - val_accuracy: 0.8155\n",
      "Epoch 14/25\n",
      "8/8 [==============================] - 0s 8ms/step - loss: 0.1410 - accuracy: 0.9540 - val_loss: 0.3658 - val_accuracy: 0.8274\n",
      "Epoch 15/25\n",
      "8/8 [==============================] - 0s 7ms/step - loss: 0.1381 - accuracy: 0.9567 - val_loss: 0.3512 - val_accuracy: 0.8274\n",
      "Epoch 16/25\n",
      "8/8 [==============================] - 0s 8ms/step - loss: 0.1337 - accuracy: 0.9581 - val_loss: 0.3457 - val_accuracy: 0.8036\n",
      "Epoch 17/25\n",
      "8/8 [==============================] - 0s 10ms/step - loss: 0.1279 - accuracy: 0.9594 - val_loss: 0.3478 - val_accuracy: 0.8512\n",
      "Epoch 18/25\n",
      "8/8 [==============================] - 0s 13ms/step - loss: 0.1237 - accuracy: 0.9621 - val_loss: 0.3372 - val_accuracy: 0.8095\n",
      "Epoch 19/25\n",
      "8/8 [==============================] - 0s 9ms/step - loss: 0.1207 - accuracy: 0.9648 - val_loss: 0.3425 - val_accuracy: 0.8690\n",
      "Epoch 20/25\n",
      "8/8 [==============================] - 0s 11ms/step - loss: 0.1183 - accuracy: 0.9648 - val_loss: 0.3320 - val_accuracy: 0.8155\n",
      "Epoch 21/25\n",
      "8/8 [==============================] - 0s 10ms/step - loss: 0.1146 - accuracy: 0.9729 - val_loss: 0.3229 - val_accuracy: 0.7917\n",
      "Epoch 22/25\n",
      "8/8 [==============================] - 0s 9ms/step - loss: 0.1122 - accuracy: 0.9675 - val_loss: 0.3200 - val_accuracy: 0.8155\n",
      "Epoch 23/25\n",
      "8/8 [==============================] - 0s 8ms/step - loss: 0.1086 - accuracy: 0.9716 - val_loss: 0.3183 - val_accuracy: 0.8512\n",
      "Epoch 24/25\n",
      "8/8 [==============================] - 0s 10ms/step - loss: 0.1047 - accuracy: 0.9756 - val_loss: 0.3168 - val_accuracy: 0.8393\n",
      "Epoch 25/25\n",
      "8/8 [==============================] - 0s 10ms/step - loss: 0.1014 - accuracy: 0.9783 - val_loss: 0.3094 - val_accuracy: 0.8571\n"
     ]
    },
    {
     "data": {
      "text/plain": [
       "'\\nmlp.fit(x = X_train,\\n        y = y_train,\\n        batch_size = 64,\\n        epochs = 50,\\n        validation_data=(X_test, y_test))\\n'"
      ]
     },
     "execution_count": 101,
     "metadata": {},
     "output_type": "execute_result"
    }
   ],
   "source": [
    "## callbacks and early stopping of 30 epochs\n",
    "from tensorflow.keras.callbacks import EarlyStopping\n",
    "from tensorflow.keras.callbacks import TensorBoard\n",
    "\n",
    "X_train = X_train_PCA\n",
    "X_test  = X_test_PCA\n",
    "\n",
    "print(X_train.shape)\n",
    "print(X_test.shape)\n",
    "print(y_train.shape)\n",
    "print(y_test.shape)\n",
    "\n",
    "print(y_test[:10])\n",
    "\n",
    "## Compilation\n",
    "mlp.compile(optimizer='SGD', loss=\"binary_crossentropy\", metrics=[\"accuracy\"])\n",
    "\n",
    "# Instantiate a callback: here 30 epochs without improvement of the val_loss will stop training\n",
    "callbacks = [EarlyStopping(monitor='val_loss', patience=5, min_delta=10**-4)]\n",
    "\n",
    "# Fitting - Then use it when you fit your model\n",
    "mlp.fit(x=X_train, y=y_train, validation_data=(X_test, y_test), epochs=25, batch_size=100, callbacks=callbacks)\n"
   ]
  },
  {
   "cell_type": "code",
   "execution_count": 102,
   "metadata": {},
   "outputs": [
    {
     "name": "stdout",
     "output_type": "stream",
     "text": [
      "3/3 [==============================] - 0s 3ms/step - loss: 0.3094 - accuracy: 0.8571\n",
      "test loss2, test acc2: 0.3094247281551361 0.8571428656578064\n"
     ]
    }
   ],
   "source": [
    "# TODO: Compute the accuracy of your model\n",
    "from sklearn.metrics import classification_report, accuracy_score\n",
    "loss_test2, accur_test2 = mlp.evaluate(X_test, y_test, batch_size=64)\n",
    "print(\"test loss2, test acc2:\", loss_test2, accur_test2)"
   ]
  }
 ],
 "metadata": {
  "kernelspec": {
   "display_name": "artefact",
   "language": "python",
   "name": "python3"
  },
  "language_info": {
   "codemirror_mode": {
    "name": "ipython",
    "version": 3
   },
   "file_extension": ".py",
   "mimetype": "text/x-python",
   "name": "python",
   "nbconvert_exporter": "python",
   "pygments_lexer": "ipython3",
   "version": "3.10.12"
  }
 },
 "nbformat": 4,
 "nbformat_minor": 2
}
