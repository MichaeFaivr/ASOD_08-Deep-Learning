{
 "cells": [
  {
   "cell_type": "markdown",
   "metadata": {},
   "source": [
    "# Denoising\n",
    "\n",
    "![](https://images.unsplash.com/photo-1548069124-75c4a08968cc?ixlib=rb-1.2.1&ixid=eyJhcHBfaWQiOjEyMDd9&auto=format&fit=crop&w=1050&q=80)\n",
    "\n",
    "Picture by [Anton Scherbakov](https://unsplash.com/photos/ZLBUaIsaY6k)"
   ]
  },
  {
   "cell_type": "markdown",
   "metadata": {},
   "source": [
    "We will here use AutoEncoders for denoising images.\n",
    "\n",
    "The idea is simple: train an autoencoder on noiseless images. Once the autoencoder is trained, input a noisy image, it should output the denoised image.\n",
    "\n",
    "Let's work again with the MNIST fashion dataset. Load it."
   ]
  },
  {
   "cell_type": "markdown",
   "metadata": {},
   "source": [
    "First download the dataset. As a reminder, the labels are the following:\n",
    "* 0:\tT-shirt/top\n",
    "* 1:\tTrouser\n",
    "* 2:\tPullover\n",
    "* 3:\tDress\n",
    "* 4:\tCoat\n",
    "* 5:\tSandal\n",
    "* 6:\tShirt\n",
    "* 7:\tSneaker\n",
    "* 8:\tBag\n",
    "* 9:\tAnkle boot"
   ]
  },
  {
   "cell_type": "code",
   "execution_count": 41,
   "metadata": {},
   "outputs": [],
   "source": [
    "import numpy as np"
   ]
  },
  {
   "cell_type": "code",
   "execution_count": 42,
   "metadata": {
    "ExecuteTime": {
     "end_time": "2019-12-02T18:32:19.573949Z",
     "start_time": "2019-12-02T18:32:19.570906Z"
    }
   },
   "outputs": [],
   "source": [
    "### TODO: Import the dataset and display an image\n",
    "from tensorflow.keras.datasets import fashion_mnist\n",
    "\n",
    "(X_train, y_train), (X_test, y_test) = fashion_mnist.load_data()"
   ]
  },
  {
   "cell_type": "markdown",
   "metadata": {},
   "source": [
    "Build an autoencoder for those images. You can reuse the architecture of the lectures.\n",
    "\n",
    "> Since this is for denoising (not any generation), a regular autoencoder is good enough!"
   ]
  },
  {
   "cell_type": "code",
   "execution_count": 43,
   "metadata": {},
   "outputs": [],
   "source": [
    "## Data preparation\n",
    "# Normalize the data\n",
    "X_train = X_train / 255\n",
    "X_test = X_test / 255\n",
    "\n",
    "# Reshape the data\n",
    "n_pixels = np.prod(X_train.shape[1:])"
   ]
  },
  {
   "cell_type": "code",
   "execution_count": 44,
   "metadata": {
    "ExecuteTime": {
     "end_time": "2019-12-02T18:32:24.672120Z",
     "start_time": "2019-12-02T18:32:24.668010Z"
    }
   },
   "outputs": [
    {
     "data": {
      "text/plain": [
       "'\\nlatent_dim = 32\\n\\n# define the input layer: the pixel values\\ninput_img = Input(shape=(n_pixels,))\\n\\n# encode\\nencoded = Dense(latent_dim, activation=\"relu\")(input_img)\\n\\n# decode\\ndecoded = Dense(n_pixels, activation=\"sigmoid\")(encoded)\\n\\n# Define the autoencoder model\\nautoencoder = Model(input_img, decoded)\\n'"
      ]
     },
     "execution_count": 44,
     "metadata": {},
     "output_type": "execute_result"
    }
   ],
   "source": [
    "### TODO: Build an autoencoder\n",
    "from keras.layers import Input, Dense\n",
    "from keras import Model\n",
    "\n",
    "\"\"\"\n",
    "latent_dim = 32\n",
    "\n",
    "# define the input layer: the pixel values\n",
    "input_img = Input(shape=(n_pixels,))\n",
    "\n",
    "# encode\n",
    "encoded = Dense(latent_dim, activation=\"relu\")(input_img)\n",
    "\n",
    "# decode\n",
    "decoded = Dense(n_pixels, activation=\"sigmoid\")(encoded)\n",
    "\n",
    "# Define the autoencoder model\n",
    "autoencoder = Model(input_img, decoded)\n",
    "\"\"\""
   ]
  },
  {
   "cell_type": "code",
   "execution_count": 55,
   "metadata": {},
   "outputs": [
    {
     "name": "stdout",
     "output_type": "stream",
     "text": [
      "n_pixels: 784\n"
     ]
    }
   ],
   "source": [
    "from tensorflow.keras.layers import Input, Dense\n",
    "from tensorflow.keras.models import Model\n",
    "\n",
    "n_pixels = np.prod(X_train.shape[1:])\n",
    "print(f'n_pixels: {n_pixels}') #784: OK\n",
    "latent_dim = 128\n",
    "\n",
    "# define the input layer: the pixel values\n",
    "input_img = Input(shape=(n_pixels,))\n",
    "\n",
    "# encode\n",
    "encoded = Dense(latent_dim, activation='relu')(input_img)\n",
    "\n",
    "# decode\n",
    "decoded = Dense(n_pixels, activation='sigmoid')(encoded)\n",
    "\n",
    "# Define the autoencoder model\n",
    "autoencoder = Model(input_img, decoded)\n",
    "\n",
    "# Define de encoder model\n",
    "encoder = Model(input_img, encoded)\n",
    "\n",
    "# Define de decoder model\n",
    "# create a placeholder for an encoded (32-dimensional) input\n",
    "encoded_input = Input(shape=(latent_dim,))\n",
    "# retrieve the last layer of the autoencoder model\n",
    "decoder_layer = autoencoder.layers[-1]\n",
    "# create the decoder model\n",
    "decoder = Model(encoded_input, decoder_layer(encoded_input))"
   ]
  },
  {
   "cell_type": "markdown",
   "metadata": {},
   "source": [
    "Now compile and train your AutoEncoder using the fashion data."
   ]
  },
  {
   "cell_type": "code",
   "execution_count": 56,
   "metadata": {
    "ExecuteTime": {
     "end_time": "2019-12-02T18:32:27.553007Z",
     "start_time": "2019-12-02T18:32:27.547761Z"
    }
   },
   "outputs": [
    {
     "name": "stdout",
     "output_type": "stream",
     "text": [
      "Epoch 1/25\n",
      "235/235 [==============================] - 2s 8ms/step - loss: 0.0455 - val_loss: 0.0252\n",
      "Epoch 2/25\n",
      "235/235 [==============================] - 2s 8ms/step - loss: 0.0202 - val_loss: 0.0165\n",
      "Epoch 3/25\n",
      "235/235 [==============================] - 2s 9ms/step - loss: 0.0142 - val_loss: 0.0125\n",
      "Epoch 4/25\n",
      "235/235 [==============================] - 2s 10ms/step - loss: 0.0116 - val_loss: 0.0109\n",
      "Epoch 5/25\n",
      "235/235 [==============================] - 2s 10ms/step - loss: 0.0103 - val_loss: 0.0099\n",
      "Epoch 6/25\n",
      "235/235 [==============================] - 2s 9ms/step - loss: 0.0094 - val_loss: 0.0091\n",
      "Epoch 7/25\n",
      "235/235 [==============================] - 2s 10ms/step - loss: 0.0088 - val_loss: 0.0086\n",
      "Epoch 8/25\n",
      "235/235 [==============================] - 2s 8ms/step - loss: 0.0083 - val_loss: 0.0082\n",
      "Epoch 9/25\n",
      "235/235 [==============================] - 2s 8ms/step - loss: 0.0079 - val_loss: 0.0078\n",
      "Epoch 10/25\n",
      "235/235 [==============================] - 2s 10ms/step - loss: 0.0075 - val_loss: 0.0075\n",
      "Epoch 11/25\n",
      "235/235 [==============================] - 2s 10ms/step - loss: 0.0072 - val_loss: 0.0072\n",
      "Epoch 12/25\n",
      "235/235 [==============================] - 2s 10ms/step - loss: 0.0070 - val_loss: 0.0070\n",
      "Epoch 13/25\n",
      "235/235 [==============================] - 2s 10ms/step - loss: 0.0068 - val_loss: 0.0068\n",
      "Epoch 14/25\n",
      "235/235 [==============================] - 2s 10ms/step - loss: 0.0067 - val_loss: 0.0066\n",
      "Epoch 15/25\n",
      "235/235 [==============================] - 2s 9ms/step - loss: 0.0065 - val_loss: 0.0065\n",
      "Epoch 16/25\n",
      "235/235 [==============================] - 2s 9ms/step - loss: 0.0064 - val_loss: 0.0064\n",
      "Epoch 17/25\n",
      "235/235 [==============================] - 2s 11ms/step - loss: 0.0063 - val_loss: 0.0063\n",
      "Epoch 18/25\n",
      "235/235 [==============================] - 2s 9ms/step - loss: 0.0062 - val_loss: 0.0062\n",
      "Epoch 19/25\n",
      "235/235 [==============================] - 2s 9ms/step - loss: 0.0061 - val_loss: 0.0062\n",
      "Epoch 20/25\n",
      "235/235 [==============================] - 2s 9ms/step - loss: 0.0060 - val_loss: 0.0061\n",
      "Epoch 21/25\n",
      "235/235 [==============================] - 2s 9ms/step - loss: 0.0059 - val_loss: 0.0060\n",
      "Epoch 22/25\n",
      "235/235 [==============================] - 2s 10ms/step - loss: 0.0058 - val_loss: 0.0059\n",
      "Epoch 23/25\n",
      "235/235 [==============================] - 2s 9ms/step - loss: 0.0058 - val_loss: 0.0059\n",
      "Epoch 24/25\n",
      "235/235 [==============================] - 2s 10ms/step - loss: 0.0057 - val_loss: 0.0058\n",
      "Epoch 25/25\n",
      "235/235 [==============================] - 2s 9ms/step - loss: 0.0057 - val_loss: 0.0058\n"
     ]
    },
    {
     "data": {
      "text/plain": [
       "<keras.callbacks.History at 0x7f145447a110>"
      ]
     },
     "execution_count": 56,
     "metadata": {},
     "output_type": "execute_result"
    }
   ],
   "source": [
    "### TODO: Train the autoencoder\n",
    "X_train_flat = X_train.reshape(X_train.shape[0], np.prod(X_train.shape[1:]))\n",
    "X_test_flat = X_test.reshape(X_test.shape[0], np.prod(X_test.shape[1:]))\n",
    "\n",
    "autoencoder.compile(optimizer='adam', loss='mse')\n",
    "\n",
    "batch_size = 256\n",
    "\n",
    "autoencoder.fit(X_train_flat, X_train_flat,\n",
    "                epochs=25,\n",
    "                batch_size=batch_size,\n",
    "                validation_data=(X_test_flat, X_test_flat))"
   ]
  },
  {
   "cell_type": "markdown",
   "metadata": {},
   "source": [
    "Check out how your model worked: display some pairs of input and output images."
   ]
  },
  {
   "cell_type": "code",
   "execution_count": 60,
   "metadata": {
    "ExecuteTime": {
     "end_time": "2019-12-02T18:32:31.225415Z",
     "start_time": "2019-12-02T18:32:31.220169Z"
    }
   },
   "outputs": [
    {
     "name": "stdout",
     "output_type": "stream",
     "text": [
      "313/313 [==============================] - 1s 2ms/step\n"
     ]
    },
    {
     "data": {
      "image/png": "[encoded data removed]",
      "text/plain": [
       "<Figure size 640x480 with 2 Axes>"
      ]
     },
     "metadata": {},
     "output_type": "display_data"
    }
   ],
   "source": [
    "### TODO: Display some reconstructed images\n",
    "import matplotlib.pyplot as plt\n",
    "import pandas as pd\n",
    "\n",
    "# Get the predictions\n",
    "X_pred = autoencoder.predict(X_test_flat)\n",
    "\n",
    "# Show some reconstructed images\n",
    "idx = np.random.randint(X_test.shape[0])\n",
    "\n",
    "plt.subplot(121)\n",
    "plt.imshow(X_test_flat[idx].reshape(28, 28), cmap=plt.cm.gray)\n",
    "plt.title(\"original image\")\n",
    "plt.axis(\"off\")\n",
    "plt.subplot(122)\n",
    "plt.imshow(X_pred[idx].reshape(28, 28), cmap=plt.cm.gray)\n",
    "plt.title(\"reconstructed image\")\n",
    "plt.axis(\"off\")\n",
    "plt.show()"
   ]
  },
  {
   "cell_type": "markdown",
   "metadata": {},
   "source": [
    "We have defined below a function to add noise."
   ]
  },
  {
   "cell_type": "code",
   "execution_count": 61,
   "metadata": {},
   "outputs": [],
   "source": [
    "def add_noise(X_train, noise_factor=0.35):\n",
    "    X_train_noisy = X_train + noise_factor * np.random.normal(loc=0.0, scale=1.0*X_train.max(), size=X_train.shape) \n",
    "    X_train_noisy = np.clip(X_train_noisy, 0., 1.)\n",
    "\n",
    "    return X_train_noisy"
   ]
  },
  {
   "cell_type": "markdown",
   "metadata": {},
   "source": [
    "Use this function to create a noisy dataset of the test images. Display some noisy images."
   ]
  },
  {
   "cell_type": "code",
   "execution_count": 63,
   "metadata": {
    "ExecuteTime": {
     "end_time": "2019-12-02T18:32:36.078771Z",
     "start_time": "2019-12-02T18:32:36.073929Z"
    }
   },
   "outputs": [
    {
     "data": {
      "text/plain": [
       "(10000, 28, 28)"
      ]
     },
     "execution_count": 63,
     "metadata": {},
     "output_type": "execute_result"
    }
   ],
   "source": [
    "### TODO: Create a noisy dataset\n",
    "X_test_noisy = add_noise(X_test, noise_factor=0.2)\n",
    "X_test_noisy.shape"
   ]
  },
  {
   "cell_type": "code",
   "execution_count": 64,
   "metadata": {},
   "outputs": [],
   "source": [
    "## flatten\n",
    "X_test_noisy_flat = X_test_noisy.reshape(X_test_noisy.shape[0], np.prod(X_test_noisy.shape[1:]))"
   ]
  },
  {
   "cell_type": "markdown",
   "metadata": {},
   "source": [
    "If you used the default `noise_factor` parameter, you should barely distinguish some images by eye, but you can tune it differently if you wish to."
   ]
  },
  {
   "cell_type": "markdown",
   "metadata": {},
   "source": [
    "Now try using your trained autoencoder: use the autoencoder with the noisy images as input, and try to predict the denoised images."
   ]
  },
  {
   "cell_type": "code",
   "execution_count": 65,
   "metadata": {
    "ExecuteTime": {
     "end_time": "2019-12-02T18:32:39.415042Z",
     "start_time": "2019-12-02T18:32:39.409808Z"
    }
   },
   "outputs": [
    {
     "name": "stdout",
     "output_type": "stream",
     "text": [
      "313/313 [==============================] - 0s 1ms/step\n"
     ]
    }
   ],
   "source": [
    "### TODO: Use the autoencoder to denoise images\n",
    "# Get the predictions\n",
    "X_pred_denoise = autoencoder.predict(X_test_noisy_flat)"
   ]
  },
  {
   "cell_type": "markdown",
   "metadata": {},
   "source": [
    "Now display side by side a noisy image and the denoised image."
   ]
  },
  {
   "cell_type": "code",
   "execution_count": 67,
   "metadata": {
    "ExecuteTime": {
     "end_time": "2019-12-02T18:32:42.754570Z",
     "start_time": "2019-12-02T18:32:42.749794Z"
    }
   },
   "outputs": [
    {
     "data": {
      "image/png": "[encoded data removed]",
      "text/plain": [
       "<Figure size 640x480 with 2 Axes>"
      ]
     },
     "metadata": {},
     "output_type": "display_data"
    }
   ],
   "source": [
    "### TODO: Display side by side the noisy and denoised images\n",
    "# Show some reconstructed images\n",
    "idx = np.random.randint(X_test_noisy.shape[0])\n",
    "\n",
    "plt.subplot(121)\n",
    "plt.imshow(X_test_noisy_flat[idx].reshape(28, 28), cmap=plt.cm.gray)\n",
    "plt.title(\"original image\")\n",
    "plt.axis(\"off\")\n",
    "plt.subplot(122)\n",
    "plt.imshow(X_pred_denoise[idx].reshape(28, 28), cmap=plt.cm.gray)\n",
    "plt.title(\"reconstructed image\")\n",
    "plt.axis(\"off\")\n",
    "plt.show()"
   ]
  },
  {
   "cell_type": "markdown",
   "metadata": {},
   "source": [
    "How did that work?"
   ]
  },
  {
   "cell_type": "markdown",
   "metadata": {},
   "source": [
    "## Optional\n",
    "\n",
    "You can get better results using CNN autoencoder instead of regular autoencoder.\n",
    "\n",
    "If you have time, you can have a try. You might need to use the `UpSampling2D` layer, which is the opposite of the `MaxPooling2D` layer."
   ]
  },
  {
   "cell_type": "code",
   "execution_count": 8,
   "metadata": {
    "ExecuteTime": {
     "end_time": "2019-12-02T18:32:47.638733Z",
     "start_time": "2019-12-02T18:32:47.634410Z"
    }
   },
   "outputs": [],
   "source": [
    "### TODO: Redo the exercise with a CNN autoencoder"
   ]
  }
 ],
 "metadata": {
  "kernelspec": {
   "display_name": "Python 3",
   "language": "python",
   "name": "python3"
  },
  "language_info": {
   "codemirror_mode": {
    "name": "ipython",
    "version": 3
   },
   "file_extension": ".py",
   "mimetype": "text/x-python",
   "name": "python",
   "nbconvert_exporter": "python",
   "pygments_lexer": "ipython3",
   "version": "3.10.12"
  },
  "toc": {
   "base_numbering": 1,
   "nav_menu": {},
   "number_sections": true,
   "sideBar": true,
   "skip_h1_title": false,
   "title_cell": "Table of Contents",
   "title_sidebar": "Contents",
   "toc_cell": false,
   "toc_position": {},
   "toc_section_display": true,
   "toc_window_display": false
  },
  "varInspector": {
   "cols": {
    "lenName": 16,
    "lenType": 16,
    "lenVar": 40
   },
   "kernels_config": {
    "python": {
     "delete_cmd_postfix": "",
     "delete_cmd_prefix": "del ",
     "library": "var_list.py",
     "varRefreshCmd": "print(var_dic_list())"
    },
    "r": {
     "delete_cmd_postfix": ") ",
     "delete_cmd_prefix": "rm(",
     "library": "var_list.r",
     "varRefreshCmd": "cat(var_dic_list()) "
    }
   },
   "types_to_exclude": [
    "module",
    "function",
    "builtin_function_or_method",
    "instance",
    "_Feature"
   ],
   "window_display": false
  }
 },
 "nbformat": 4,
 "nbformat_minor": 2
}
