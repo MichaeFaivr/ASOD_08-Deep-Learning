{
 "cells": [
  {
   "cell_type": "markdown",
   "metadata": {},
   "source": [
    "![](https://images.unsplash.com/photo-1512436991641-6745cdb1723f?ixlib=rb-1.2.1&ixid=eyJhcHBfaWQiOjEyMDd9&auto=format&fit=crop&w=1050&q=80)\n",
    "\n",
    "Photo by [Lauren Fleischmann](https://unsplash.com/photos/R2aodqJn3b8)"
   ]
  },
  {
   "cell_type": "markdown",
   "metadata": {},
   "source": [
    "In this exercise, we will try to use a neural network on a simple classification task: classifying images of clothes into 10 classes."
   ]
  },
  {
   "cell_type": "markdown",
   "metadata": {},
   "source": [
    "We will first download the data:"
   ]
  },
  {
   "cell_type": "code",
   "execution_count": 135,
   "metadata": {},
   "outputs": [],
   "source": [
    "import keras\n",
    "from keras.models import Sequential\n",
    "from keras.layers import Dense, Input"
   ]
  },
  {
   "cell_type": "code",
   "execution_count": 136,
   "metadata": {
    "scrolled": true
   },
   "outputs": [],
   "source": [
    "from tensorflow.keras.datasets import fashion_mnist\n",
    "\n",
    "(X_train, y_train), (X_test, y_test) = fashion_mnist.load_data()"
   ]
  },
  {
   "cell_type": "markdown",
   "metadata": {},
   "source": [
    "This dataset contains 10 classes:\n",
    "* 0:\tT-shirt/top\n",
    "* 1:\tTrouser\n",
    "* 2:\tPullover\n",
    "* 3:\tDress\n",
    "* 4:\tCoat\n",
    "* 5:\tSandal\n",
    "* 6:\tShirt\n",
    "* 7:\tSneaker\n",
    "* 8:\tBag\n",
    "* 9:\tAnkle boot"
   ]
  },
  {
   "cell_type": "markdown",
   "metadata": {},
   "source": [
    "Now begin by exploring the data. Try to display some images with the associated label."
   ]
  },
  {
   "cell_type": "code",
   "execution_count": 137,
   "metadata": {
    "scrolled": true
   },
   "outputs": [
    {
     "data": {
      "text/plain": [
       "(60000, 28, 28)"
      ]
     },
     "execution_count": 137,
     "metadata": {},
     "output_type": "execute_result"
    }
   ],
   "source": [
    "# TODO: Explore the data, display some input images\n",
    "\n",
    "X_train.shape"
   ]
  },
  {
   "cell_type": "code",
   "execution_count": 138,
   "metadata": {},
   "outputs": [
    {
     "data": {
      "text/plain": [
       "10"
      ]
     },
     "execution_count": 138,
     "metadata": {},
     "output_type": "execute_result"
    }
   ],
   "source": [
    "## nb of classes\n",
    "import numpy as np\n",
    "nb_classes = len(np.unique(y_train))\n",
    "# 0 to 9 \n",
    "nb_classes\n"
   ]
  },
  {
   "cell_type": "code",
   "execution_count": 139,
   "metadata": {},
   "outputs": [
    {
     "data": {
      "image/png": "[encoded data removed]",
      "text/plain": [
       "<Figure size 640x480 with 4 Axes>"
      ]
     },
     "metadata": {},
     "output_type": "display_data"
    }
   ],
   "source": [
    "from matplotlib import pyplot as plt\n",
    "import numpy as np\n",
    "\n",
    "def multiplots(X, y):\n",
    "    # voir pour générer les rows randomly\n",
    "    rows = [10, 100, 1000, 50000] \n",
    "    fig, axs = plt.subplots(2, 2)    \n",
    "    \n",
    "    for i in range(2):\n",
    "        for j in range(2):\n",
    "            row = 2 * i + j\n",
    "            imag = X[rows[row]]\n",
    "            imag = np.array(imag, dtype='float')\n",
    "            pixels = imag.reshape((28, 28))\n",
    "            axs[i, j].imshow(pixels, cmap='gray_r')\n",
    "            axs[i, j].set_title(y[rows[row]])\n",
    "    \n",
    "multiplots(X_train, y_train)"
   ]
  },
  {
   "cell_type": "markdown",
   "metadata": {},
   "source": [
    "**Before going further**: what methods could you use to perform such a classification task?"
   ]
  },
  {
   "cell_type": "markdown",
   "metadata": {},
   "source": [
    "### - LogisticRegression\n",
    "### - XGBoostClassifier"
   ]
  },
  {
   "cell_type": "markdown",
   "metadata": {},
   "source": [
    "---"
   ]
  },
  {
   "cell_type": "markdown",
   "metadata": {},
   "source": [
    "The first method you will try is using neural networks. First step is the data preparation: data rescaling, label preparation.\n",
    "\n",
    "Hint: you can use the Keras function `to_categorical`"
   ]
  },
  {
   "cell_type": "code",
   "execution_count": 140,
   "metadata": {},
   "outputs": [],
   "source": [
    "# TODO: Make the data preparation\n",
    "# flatten arrays\n",
    "X_flat_train = X_train.reshape(X_train.shape[0],-1)\n",
    "X_flat_test  = X_test.reshape(X_test.shape[0],-1)\n",
    "\n",
    "## SCALE THE FEATURES (pixels grey levels)\n",
    "# numeric features scaling\n",
    "from sklearn.preprocessing import MinMaxScaler\n",
    "\n",
    "X_flat_train.shape\n",
    "\n",
    "scaler = MinMaxScaler()\n",
    "#X_train = scaler.fit_transform(X_flat_train) ## ??!! NN accuracy pas cool\n",
    "#X_test  = scaler.transform(X_flat_test)\n",
    "X_train = X_flat_train/255.\n",
    "X_test = X_flat_test/255."
   ]
  },
  {
   "cell_type": "code",
   "execution_count": 141,
   "metadata": {},
   "outputs": [
    {
     "data": {
      "text/plain": [
       "(60000, 784)"
      ]
     },
     "execution_count": 141,
     "metadata": {},
     "output_type": "execute_result"
    }
   ],
   "source": [
    "X_train.shape"
   ]
  },
  {
   "cell_type": "code",
   "execution_count": 142,
   "metadata": {},
   "outputs": [],
   "source": [
    "### transform target to categorical matrix\n",
    "## stackoverflow\n",
    "y_train_cat = keras.utils.to_categorical(y_train, num_classes=nb_classes)\n",
    "y_test_cat = keras.utils.to_categorical(y_test, num_classes=nb_classes)"
   ]
  },
  {
   "cell_type": "markdown",
   "metadata": {},
   "source": [
    "Next step: model building with Keras. Build your neural network architecture. At first, I would recommend a light architecture: no more than 2 hidden layers, with about 10 units per layer. Put that model into a function, so that you can reuse it later."
   ]
  },
  {
   "cell_type": "code",
   "execution_count": 143,
   "metadata": {},
   "outputs": [
    {
     "name": "stdout",
     "output_type": "stream",
     "text": [
      "Model: \"sequential_14\"\n",
      "_________________________________________________________________\n",
      " Layer (type)                Output Shape              Param #   \n",
      "=================================================================\n",
      " dense_42 (Dense)            (None, 10)                7850      \n",
      "                                                                 \n",
      " dense_43 (Dense)            (None, 10)                110       \n",
      "                                                                 \n",
      " dense_44 (Dense)            (None, 10)                110       \n",
      "                                                                 \n",
      "=================================================================\n",
      "Total params: 8,070\n",
      "Trainable params: 8,070\n",
      "Non-trainable params: 0\n",
      "_________________________________________________________________\n"
     ]
    }
   ],
   "source": [
    "# TODO: Build your model\n",
    "# COURS B.ROLAND\n",
    "def multi_class_mlp(input_dim: tuple[int, ...], nb_layers: int, nb_units: int, nb_outputs: int) -> Sequential:\n",
    "    # Sequential model\n",
    "    model = Sequential()\n",
    "\n",
    "    # Input\n",
    "    model.add(Input(input_dim))\n",
    "\n",
    "    # Loop onto Hidden Layers\n",
    "    for lay in range(nb_layers):\n",
    "        model.add(Dense(nb_units, activation=\"sigmoid\"))\n",
    "\n",
    "    # Output Layers\n",
    "    model.add(Dense(nb_outputs, activation=\"softmax\")) #??!! sigmoid pas bon; softmax transforme le vect issu de l'activitation en vect de probas des 10 classes\n",
    "\n",
    "    return model\n",
    "\n",
    "inp_dim = X_train.shape[1] \n",
    "mlp = multi_class_mlp(input_dim=(inp_dim,),nb_layers=2, nb_units=10, nb_outputs=nb_classes)\n",
    "mlp.summary()"
   ]
  },
  {
   "cell_type": "markdown",
   "metadata": {},
   "source": [
    "Now compile and fit your model on your training data. Since this is a multiclass classification, the loss is not `binary_crossentropy` anymore, but `categorical_crossentropy`."
   ]
  },
  {
   "cell_type": "code",
   "execution_count": 144,
   "metadata": {
    "scrolled": true
   },
   "outputs": [
    {
     "name": "stdout",
     "output_type": "stream",
     "text": [
      "(60000, 784)\n",
      "(10000, 784)\n",
      "(60000, 10)\n",
      "(10000, 10)\n",
      "Epoch 1/25\n",
      "600/600 [==============================] - 1s 2ms/step - loss: 1.3109 - accuracy: 0.5406 - val_loss: 0.9545 - val_accuracy: 0.6211\n",
      "Epoch 2/25\n",
      "600/600 [==============================] - 1s 2ms/step - loss: 0.7047 - accuracy: 0.7520 - val_loss: 0.6162 - val_accuracy: 0.7957\n",
      "Epoch 3/25\n",
      "600/600 [==============================] - 1s 2ms/step - loss: 0.5632 - accuracy: 0.8094 - val_loss: 0.6110 - val_accuracy: 0.7957\n",
      "Epoch 4/25\n",
      "600/600 [==============================] - 1s 2ms/step - loss: 0.5088 - accuracy: 0.8276 - val_loss: 0.5082 - val_accuracy: 0.8249\n",
      "Epoch 5/25\n",
      "600/600 [==============================] - 1s 2ms/step - loss: 0.4798 - accuracy: 0.8350 - val_loss: 0.4949 - val_accuracy: 0.8288\n",
      "Epoch 6/25\n",
      "600/600 [==============================] - 1s 2ms/step - loss: 0.4582 - accuracy: 0.8419 - val_loss: 0.5069 - val_accuracy: 0.8234\n",
      "Epoch 7/25\n",
      "600/600 [==============================] - 1s 2ms/step - loss: 0.4457 - accuracy: 0.8452 - val_loss: 0.4789 - val_accuracy: 0.8344\n",
      "Epoch 8/25\n",
      "600/600 [==============================] - 1s 2ms/step - loss: 0.4356 - accuracy: 0.8482 - val_loss: 0.4626 - val_accuracy: 0.8395\n",
      "Epoch 9/25\n",
      "600/600 [==============================] - 1s 2ms/step - loss: 0.4233 - accuracy: 0.8522 - val_loss: 0.4537 - val_accuracy: 0.8408\n",
      "Epoch 10/25\n",
      "600/600 [==============================] - 1s 2ms/step - loss: 0.4155 - accuracy: 0.8547 - val_loss: 0.4595 - val_accuracy: 0.8412\n",
      "Epoch 11/25\n",
      "600/600 [==============================] - 2s 3ms/step - loss: 0.4117 - accuracy: 0.8568 - val_loss: 0.4512 - val_accuracy: 0.8437\n",
      "Epoch 12/25\n",
      "600/600 [==============================] - 2s 3ms/step - loss: 0.4054 - accuracy: 0.8580 - val_loss: 0.4364 - val_accuracy: 0.8493\n",
      "Epoch 13/25\n",
      "600/600 [==============================] - 2s 3ms/step - loss: 0.3988 - accuracy: 0.8607 - val_loss: 0.4904 - val_accuracy: 0.8281\n",
      "Epoch 14/25\n",
      "600/600 [==============================] - 2s 3ms/step - loss: 0.3931 - accuracy: 0.8618 - val_loss: 0.4456 - val_accuracy: 0.8421\n",
      "Epoch 15/25\n",
      "600/600 [==============================] - 1s 2ms/step - loss: 0.3903 - accuracy: 0.8639 - val_loss: 0.4396 - val_accuracy: 0.8470\n",
      "Epoch 16/25\n",
      "600/600 [==============================] - 1s 2ms/step - loss: 0.3879 - accuracy: 0.8637 - val_loss: 0.4850 - val_accuracy: 0.8278\n",
      "Epoch 17/25\n",
      "600/600 [==============================] - 1s 2ms/step - loss: 0.3816 - accuracy: 0.8659 - val_loss: 0.4412 - val_accuracy: 0.8472\n",
      "Epoch 18/25\n",
      "600/600 [==============================] - 1s 2ms/step - loss: 0.3807 - accuracy: 0.8656 - val_loss: 0.4837 - val_accuracy: 0.8315\n",
      "Epoch 19/25\n",
      "600/600 [==============================] - 2s 3ms/step - loss: 0.3795 - accuracy: 0.8668 - val_loss: 0.4464 - val_accuracy: 0.8476\n",
      "Epoch 20/25\n",
      "600/600 [==============================] - 2s 3ms/step - loss: 0.3753 - accuracy: 0.8684 - val_loss: 0.4488 - val_accuracy: 0.8467\n",
      "Epoch 21/25\n",
      "600/600 [==============================] - 2s 3ms/step - loss: 0.3737 - accuracy: 0.8685 - val_loss: 0.4425 - val_accuracy: 0.8471\n",
      "Epoch 22/25\n",
      "600/600 [==============================] - 1s 2ms/step - loss: 0.3715 - accuracy: 0.8697 - val_loss: 0.4320 - val_accuracy: 0.8508\n",
      "Epoch 23/25\n",
      "600/600 [==============================] - 1s 2ms/step - loss: 0.3676 - accuracy: 0.8716 - val_loss: 0.4423 - val_accuracy: 0.8460\n",
      "Epoch 24/25\n",
      "600/600 [==============================] - 1s 2ms/step - loss: 0.3669 - accuracy: 0.8715 - val_loss: 0.4602 - val_accuracy: 0.8414\n",
      "Epoch 25/25\n",
      "600/600 [==============================] - 1s 2ms/step - loss: 0.3636 - accuracy: 0.8723 - val_loss: 0.4315 - val_accuracy: 0.8506\n"
     ]
    },
    {
     "data": {
      "text/plain": [
       "<keras.callbacks.History at 0x7f6162facbe0>"
      ]
     },
     "execution_count": 144,
     "metadata": {},
     "output_type": "execute_result"
    }
   ],
   "source": [
    "# TODO: Compile and fit your model\n",
    "print(X_train.shape)\n",
    "print(X_test.shape)\n",
    "print(y_train_cat.shape)\n",
    "print(y_test_cat.shape)\n",
    "\n",
    "## COURS\n",
    "from keras.optimizers import SGD\n",
    "\n",
    "mlp.compile(optimizer=SGD(learning_rate=0.45), loss=\"categorical_crossentropy\", metrics=[\"accuracy\"])\n",
    "\n",
    "mlp.fit(x=X_train, y=y_train_cat, validation_data=(X_test, y_test_cat), epochs=25, batch_size=100)\n",
    "\n",
    "### loss difficile à interpréter ! entropie categ. croisée\n",
    "### autre point: categ. -> sparse.catg sans avoir besoin de 1-hot-encode "
   ]
  },
  {
   "cell_type": "markdown",
   "metadata": {},
   "source": [
    "Once your model has been trained, compute the accuracy (and other metrics if you want) on the train and test dataset.\n",
    "\n",
    "Be careful, Keras returns softmax output (so an array of 10 values between 0 and 1, for which the sum is equal to 1). To compute correctly the accuracy, you have to convert that array into a categorical array with zeros and a 1."
   ]
  },
  {
   "cell_type": "code",
   "execution_count": 145,
   "metadata": {},
   "outputs": [
    {
     "name": "stdout",
     "output_type": "stream",
     "text": [
      "1/1 [==============================] - 0s 44ms/step\n"
     ]
    },
    {
     "data": {
      "text/plain": [
       "array([[4.0631330e-05, 2.9408376e-10, 2.2379785e-07, 8.0758009e-06,\n",
       "        6.3638026e-08, 5.7540932e-03, 7.2947689e-05, 1.5975107e-02,\n",
       "        6.2577223e-05, 9.7808629e-01],\n",
       "       [2.2876449e-03, 1.9629952e-04, 9.4568789e-01, 1.2304875e-04,\n",
       "        1.9908307e-02, 2.5541036e-05, 3.1090094e-02, 8.5988660e-07,\n",
       "        6.8028702e-04, 2.9375059e-08],\n",
       "       [5.1621901e-04, 9.8987561e-01, 1.5388437e-03, 2.1051520e-03,\n",
       "        5.6092436e-03, 2.1100298e-07, 3.3614851e-04, 3.6614900e-08,\n",
       "        1.8505014e-05, 6.8999133e-11],\n",
       "       [9.0834474e-05, 9.9616134e-01, 2.6602784e-04, 1.8950732e-03,\n",
       "        1.5240759e-03, 6.2233215e-07, 4.8314432e-05, 8.8266646e-08,\n",
       "        1.3695905e-05, 3.5554906e-11],\n",
       "       [1.9649045e-01, 2.3980688e-06, 1.3136487e-02, 5.8093909e-03,\n",
       "        2.0018893e-03, 2.6637511e-04, 7.8138274e-01, 2.0939908e-07,\n",
       "        7.8626012e-04, 1.2381906e-04]], dtype=float32)"
      ]
     },
     "execution_count": 145,
     "metadata": {},
     "output_type": "execute_result"
    }
   ],
   "source": [
    "# TODO: Compute the accuracy of your model\n",
    "mlp.predict(X_test[:5])"
   ]
  },
  {
   "cell_type": "markdown",
   "metadata": {},
   "source": [
    "What do you think of those results? Can you improve it by changing the number of layers? Of units per layer? The number of epochs? The activation functions?\n",
    "\n",
    "You should try!"
   ]
  },
  {
   "cell_type": "code",
   "execution_count": null,
   "metadata": {},
   "outputs": [],
   "source": [
    "#loss, acc = mlp.evaluate()"
   ]
  },
  {
   "cell_type": "markdown",
   "metadata": {},
   "source": [
    "---"
   ]
  },
  {
   "cell_type": "markdown",
   "metadata": {},
   "source": [
    "In order to compare your results with more traditional machine learning methods, you will do this work with another method: a PCA followed by a classification model (of your choice). Of course, you will perform hyperparameter optimization using a gridsearch on that model!\n",
    "\n",
    "Fit your model and display the performances."
   ]
  },
  {
   "cell_type": "code",
   "execution_count": 146,
   "metadata": {},
   "outputs": [],
   "source": [
    "from sklearn.decomposition import PCA\n",
    "\n",
    "pca = PCA(n_components=80)\n",
    "X_train_PCA = pca.fit_transform(X_train)\n",
    "X_test_PCA = pca.transform(X_test)"
   ]
  },
  {
   "cell_type": "code",
   "execution_count": 155,
   "metadata": {},
   "outputs": [
    {
     "name": "stderr",
     "output_type": "stream",
     "text": [
      "/home/michaelfaivre/.pyenv/versions/3.10.12/envs/artefact/lib/python3.10/site-packages/sklearn/linear_model/_logistic.py:460: ConvergenceWarning: lbfgs failed to converge (status=1):\n",
      "STOP: TOTAL NO. of ITERATIONS REACHED LIMIT.\n",
      "\n",
      "Increase the number of iterations (max_iter) or scale the data as shown in:\n",
      "    https://scikit-learn.org/stable/modules/preprocessing.html\n",
      "Please also refer to the documentation for alternative solver options:\n",
      "    https://scikit-learn.org/stable/modules/linear_model.html#logistic-regression\n",
      "  n_iter_i = _check_optimize_result(\n",
      "/home/michaelfaivre/.pyenv/versions/3.10.12/envs/artefact/lib/python3.10/site-packages/sklearn/linear_model/_logistic.py:460: ConvergenceWarning: lbfgs failed to converge (status=1):\n",
      "STOP: TOTAL NO. of ITERATIONS REACHED LIMIT.\n",
      "\n",
      "Increase the number of iterations (max_iter) or scale the data as shown in:\n",
      "    https://scikit-learn.org/stable/modules/preprocessing.html\n",
      "Please also refer to the documentation for alternative solver options:\n",
      "    https://scikit-learn.org/stable/modules/linear_model.html#logistic-regression\n",
      "  n_iter_i = _check_optimize_result(\n",
      "/home/michaelfaivre/.pyenv/versions/3.10.12/envs/artefact/lib/python3.10/site-packages/sklearn/linear_model/_logistic.py:460: ConvergenceWarning: lbfgs failed to converge (status=1):\n",
      "STOP: TOTAL NO. of ITERATIONS REACHED LIMIT.\n",
      "\n",
      "Increase the number of iterations (max_iter) or scale the data as shown in:\n",
      "    https://scikit-learn.org/stable/modules/preprocessing.html\n",
      "Please also refer to the documentation for alternative solver options:\n",
      "    https://scikit-learn.org/stable/modules/linear_model.html#logistic-regression\n",
      "  n_iter_i = _check_optimize_result(\n",
      "/home/michaelfaivre/.pyenv/versions/3.10.12/envs/artefact/lib/python3.10/site-packages/sklearn/linear_model/_logistic.py:460: ConvergenceWarning: lbfgs failed to converge (status=1):\n",
      "STOP: TOTAL NO. of ITERATIONS REACHED LIMIT.\n",
      "\n",
      "Increase the number of iterations (max_iter) or scale the data as shown in:\n",
      "    https://scikit-learn.org/stable/modules/preprocessing.html\n",
      "Please also refer to the documentation for alternative solver options:\n",
      "    https://scikit-learn.org/stable/modules/linear_model.html#logistic-regression\n",
      "  n_iter_i = _check_optimize_result(\n"
     ]
    },
    {
     "data": {
      "text/html": [
       "<style>#sk-container-id-4 {color: black;}#sk-container-id-4 pre{padding: 0;}#sk-container-id-4 div.sk-toggleable {background-color: white;}#sk-container-id-4 label.sk-toggleable__label {cursor: pointer;display: block;width: 100%;margin-bottom: 0;padding: 0.3em;box-sizing: border-box;text-align: center;}#sk-container-id-4 label.sk-toggleable__label-arrow:before {content: \"▸\";float: left;margin-right: 0.25em;color: #696969;}#sk-container-id-4 label.sk-toggleable__label-arrow:hover:before {color: black;}#sk-container-id-4 div.sk-estimator:hover label.sk-toggleable__label-arrow:before {color: black;}#sk-container-id-4 div.sk-toggleable__content {max-height: 0;max-width: 0;overflow: hidden;text-align: left;background-color: #f0f8ff;}#sk-container-id-4 div.sk-toggleable__content pre {margin: 0.2em;color: black;border-radius: 0.25em;background-color: #f0f8ff;}#sk-container-id-4 input.sk-toggleable__control:checked~div.sk-toggleable__content {max-height: 200px;max-width: 100%;overflow: auto;}#sk-container-id-4 input.sk-toggleable__control:checked~label.sk-toggleable__label-arrow:before {content: \"▾\";}#sk-container-id-4 div.sk-estimator input.sk-toggleable__control:checked~label.sk-toggleable__label {background-color: #d4ebff;}#sk-container-id-4 div.sk-label input.sk-toggleable__control:checked~label.sk-toggleable__label {background-color: #d4ebff;}#sk-container-id-4 input.sk-hidden--visually {border: 0;clip: rect(1px 1px 1px 1px);clip: rect(1px, 1px, 1px, 1px);height: 1px;margin: -1px;overflow: hidden;padding: 0;position: absolute;width: 1px;}#sk-container-id-4 div.sk-estimator {font-family: monospace;background-color: #f0f8ff;border: 1px dotted black;border-radius: 0.25em;box-sizing: border-box;margin-bottom: 0.5em;}#sk-container-id-4 div.sk-estimator:hover {background-color: #d4ebff;}#sk-container-id-4 div.sk-parallel-item::after {content: \"\";width: 100%;border-bottom: 1px solid gray;flex-grow: 1;}#sk-container-id-4 div.sk-label:hover label.sk-toggleable__label {background-color: #d4ebff;}#sk-container-id-4 div.sk-serial::before {content: \"\";position: absolute;border-left: 1px solid gray;box-sizing: border-box;top: 0;bottom: 0;left: 50%;z-index: 0;}#sk-container-id-4 div.sk-serial {display: flex;flex-direction: column;align-items: center;background-color: white;padding-right: 0.2em;padding-left: 0.2em;position: relative;}#sk-container-id-4 div.sk-item {position: relative;z-index: 1;}#sk-container-id-4 div.sk-parallel {display: flex;align-items: stretch;justify-content: center;background-color: white;position: relative;}#sk-container-id-4 div.sk-item::before, #sk-container-id-4 div.sk-parallel-item::before {content: \"\";position: absolute;border-left: 1px solid gray;box-sizing: border-box;top: 0;bottom: 0;left: 50%;z-index: -1;}#sk-container-id-4 div.sk-parallel-item {display: flex;flex-direction: column;z-index: 1;position: relative;background-color: white;}#sk-container-id-4 div.sk-parallel-item:first-child::after {align-self: flex-end;width: 50%;}#sk-container-id-4 div.sk-parallel-item:last-child::after {align-self: flex-start;width: 50%;}#sk-container-id-4 div.sk-parallel-item:only-child::after {width: 0;}#sk-container-id-4 div.sk-dashed-wrapped {border: 1px dashed gray;margin: 0 0.4em 0.5em 0.4em;box-sizing: border-box;padding-bottom: 0.4em;background-color: white;}#sk-container-id-4 div.sk-label label {font-family: monospace;font-weight: bold;display: inline-block;line-height: 1.2em;}#sk-container-id-4 div.sk-label-container {text-align: center;}#sk-container-id-4 div.sk-container {/* jupyter's `normalize.less` sets `[hidden] { display: none; }` but bootstrap.min.css set `[hidden] { display: none !important; }` so we also need the `!important` here to be able to override the default hidden behavior on the sphinx rendered scikit-learn.org. See: https://github.com/scikit-learn/scikit-learn/issues/21755 */display: inline-block !important;position: relative;}#sk-container-id-4 div.sk-text-repr-fallback {display: none;}</style><div id=\"sk-container-id-4\" class=\"sk-top-container\"><div class=\"sk-text-repr-fallback\"><pre>GridSearchCV(cv=3, estimator=LogisticRegression(max_iter=500),\n",
       "             param_grid={&#x27;solver&#x27;: [&#x27;lbfgs&#x27;]})</pre><b>In a Jupyter environment, please rerun this cell to show the HTML representation or trust the notebook. <br />On GitHub, the HTML representation is unable to render, please try loading this page with nbviewer.org.</b></div><div class=\"sk-container\" hidden><div class=\"sk-item sk-dashed-wrapped\"><div class=\"sk-label-container\"><div class=\"sk-label sk-toggleable\"><input class=\"sk-toggleable__control sk-hidden--visually\" id=\"sk-estimator-id-10\" type=\"checkbox\" ><label for=\"sk-estimator-id-10\" class=\"sk-toggleable__label sk-toggleable__label-arrow\">GridSearchCV</label><div class=\"sk-toggleable__content\"><pre>GridSearchCV(cv=3, estimator=LogisticRegression(max_iter=500),\n",
       "             param_grid={&#x27;solver&#x27;: [&#x27;lbfgs&#x27;]})</pre></div></div></div><div class=\"sk-parallel\"><div class=\"sk-parallel-item\"><div class=\"sk-item\"><div class=\"sk-label-container\"><div class=\"sk-label sk-toggleable\"><input class=\"sk-toggleable__control sk-hidden--visually\" id=\"sk-estimator-id-11\" type=\"checkbox\" ><label for=\"sk-estimator-id-11\" class=\"sk-toggleable__label sk-toggleable__label-arrow\">estimator: LogisticRegression</label><div class=\"sk-toggleable__content\"><pre>LogisticRegression(max_iter=500)</pre></div></div></div><div class=\"sk-serial\"><div class=\"sk-item\"><div class=\"sk-estimator sk-toggleable\"><input class=\"sk-toggleable__control sk-hidden--visually\" id=\"sk-estimator-id-12\" type=\"checkbox\" ><label for=\"sk-estimator-id-12\" class=\"sk-toggleable__label sk-toggleable__label-arrow\">LogisticRegression</label><div class=\"sk-toggleable__content\"><pre>LogisticRegression(max_iter=500)</pre></div></div></div></div></div></div></div></div></div></div>"
      ],
      "text/plain": [
       "GridSearchCV(cv=3, estimator=LogisticRegression(max_iter=500),\n",
       "             param_grid={'solver': ['lbfgs']})"
      ]
     },
     "execution_count": 155,
     "metadata": {},
     "output_type": "execute_result"
    }
   ],
   "source": [
    "# TODO: Redo the classification with PCA and classification model\n",
    "from sklearn.linear_model import LogisticRegression\n",
    "from sklearn.model_selection import GridSearchCV\n",
    "from sklearn.metrics import classification_report, f1_score\n",
    "\n",
    "param_grid = {\n",
    "    \"solver\": [\"lbfgs\"],\n",
    "}\n",
    "\n",
    "clf = GridSearchCV(\n",
    "        LogisticRegression(max_iter=500),\n",
    "        param_grid,\n",
    "        cv=3,\n",
    "    )\n",
    "\n",
    "clf.fit(X_train_PCA, y_train)\n"
   ]
  },
  {
   "cell_type": "code",
   "execution_count": 156,
   "metadata": {},
   "outputs": [
    {
     "data": {
      "text/plain": [
       "0.8364070736215635"
      ]
     },
     "execution_count": 156,
     "metadata": {},
     "output_type": "execute_result"
    },
    {
     "ename": "",
     "evalue": "",
     "output_type": "error",
     "traceback": [
      "\u001b[1;31mThe Kernel crashed while executing code in the current cell or a previous cell. \n",
      "\u001b[1;31mPlease review the code in the cell(s) to identify a possible cause of the failure. \n",
      "\u001b[1;31mClick <a href='https://aka.ms/vscodeJupyterKernelCrash'>here</a> for more info. \n",
      "\u001b[1;31mView Jupyter <a href='command:jupyter.viewOutput'>log</a> for further details."
     ]
    }
   ],
   "source": [
    "f1_score_ = f1_score(y_test, clf.predict(X_test_PCA), average = 'weighted')\n",
    "#print(f'f1 score on test: {f1_score}')\n",
    "f1_score_"
   ]
  },
  {
   "cell_type": "code",
   "execution_count": null,
   "metadata": {},
   "outputs": [],
   "source": []
  },
  {
   "cell_type": "markdown",
   "metadata": {},
   "source": [
    "Did the neural network improve significantly the performances? Can you explain why?"
   ]
  },
  {
   "cell_type": "markdown",
   "metadata": {},
   "source": [
    "If you still have time, you could try to use scikit-learn's `Pipeline` to perform the hyperparameter optimization jointly on the PCA and the classification model. This might improve your performances."
   ]
  }
 ],
 "metadata": {
  "kernelspec": {
   "display_name": "Python 3",
   "language": "python",
   "name": "python3"
  },
  "language_info": {
   "codemirror_mode": {
    "name": "ipython",
    "version": 3
   },
   "file_extension": ".py",
   "mimetype": "text/x-python",
   "name": "python",
   "nbconvert_exporter": "python",
   "pygments_lexer": "ipython3",
   "version": "3.10.12"
  },
  "toc": {
   "base_numbering": 1,
   "nav_menu": {},
   "number_sections": true,
   "sideBar": true,
   "skip_h1_title": false,
   "title_cell": "Table of Contents",
   "title_sidebar": "Contents",
   "toc_cell": false,
   "toc_position": {},
   "toc_section_display": true,
   "toc_window_display": false
  }
 },
 "nbformat": 4,
 "nbformat_minor": 2
}
