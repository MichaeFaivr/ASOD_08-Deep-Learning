{
 "cells": [
  {
   "cell_type": "code",
   "execution_count": 15,
   "metadata": {},
   "outputs": [],
   "source": [
    "import pickle\n",
    "X, y = pickle.load(open(\"input/dataset.pkl\", \"rb\"))"
   ]
  },
  {
   "cell_type": "code",
   "execution_count": 16,
   "metadata": {},
   "outputs": [],
   "source": [
    "import numpy as np"
   ]
  },
  {
   "cell_type": "markdown",
   "metadata": {},
   "source": [
    "It contains images of people smiling `y=1` or not `y=0`.\n",
    "\n",
    "You will create a classifier based on those features and labels using three methods:\n",
    "- A PCA that retains 99% of the information followed by a random forest\n",
    "- A CNN\n",
    "- A facial landmark extraction followed by a random forest\n",
    "\n",
    "For each case, you may have to handle the data a bit differently. In each case, compute the accuracy and compare the final results: what method is the most accurate? What method gives the best results for a limited development time?"
   ]
  },
  {
   "cell_type": "code",
   "execution_count": 17,
   "metadata": {},
   "outputs": [
    {
     "name": "stdout",
     "output_type": "stream",
     "text": [
      "(800, 350, 350)\n",
      "(800,)\n"
     ]
    }
   ],
   "source": [
    "print(X.shape)\n",
    "print(y.shape)\n",
    "\n",
    "size_x = X.shape[1]\n",
    "size_y = X.shape[2]"
   ]
  },
  {
   "cell_type": "code",
   "execution_count": 18,
   "metadata": {},
   "outputs": [],
   "source": [
    "# split train test\n",
    "from sklearn.model_selection import train_test_split\n",
    "\n",
    "X_train, X_test, y_train, y_test = train_test_split(X, y, test_size=0.2, random_state=0)"
   ]
  },
  {
   "cell_type": "code",
   "execution_count": 19,
   "metadata": {},
   "outputs": [],
   "source": [
    "# Make the data preparation\n",
    "# flatten arrays\n",
    "X_flat_train = X_train.reshape(X_train.shape[0],-1)\n",
    "X_flat_test  = X_test.reshape(X_test.shape[0],-1)\n",
    "\n",
    "## SCALE THE FEATURES (pixels grey levels)\n",
    "# numeric features scaling\n",
    "from sklearn.preprocessing import MinMaxScaler\n",
    "\n",
    "X_flat_train.shape\n",
    "\n",
    "scaler = MinMaxScaler()\n",
    "X_train = scaler.fit_transform(X_flat_train)\n",
    "X_test  = scaler.transform(X_flat_test)"
   ]
  },
  {
   "cell_type": "markdown",
   "metadata": {},
   "source": [
    "## PCA 90% + RF"
   ]
  },
  {
   "cell_type": "code",
   "execution_count": 20,
   "metadata": {},
   "outputs": [],
   "source": [
    "from sklearn.decomposition import PCA\n",
    "\n",
    "pca = PCA(n_components=0.9)\n",
    "X_train_PCA = pca.fit_transform(X_train)\n",
    "X_test_PCA = pca.transform(X_test)"
   ]
  },
  {
   "cell_type": "code",
   "execution_count": 21,
   "metadata": {},
   "outputs": [
    {
     "name": "stdout",
     "output_type": "stream",
     "text": [
      "[0. 1.]\n"
     ]
    }
   ],
   "source": [
    "# RF apply to PCA\n",
    "print(np.unique(y))"
   ]
  },
  {
   "cell_type": "code",
   "execution_count": 22,
   "metadata": {},
   "outputs": [
    {
     "data": {
      "text/plain": [
       "(640, 98)"
      ]
     },
     "execution_count": 22,
     "metadata": {},
     "output_type": "execute_result"
    }
   ],
   "source": [
    "X_train_PCA.shape ## il reste 98 features out of 350*350 initially"
   ]
  },
  {
   "cell_type": "code",
   "execution_count": 23,
   "metadata": {},
   "outputs": [
    {
     "name": "stdout",
     "output_type": "stream",
     "text": [
      "f1score_test: [0.82894737 0.8452381 ]\n",
      "acc_score_train: 0.8875\n",
      "acc_score_test: 0.8375\n"
     ]
    }
   ],
   "source": [
    "## 1er hyperparm : max_depth !!! pour la régularization\n",
    "\n",
    "from sklearn.ensemble import RandomForestClassifier\n",
    "from sklearn.metrics import f1_score, accuracy_score\n",
    "\n",
    "clf = RandomForestClassifier(max_depth=2, random_state=0)\n",
    "clf.fit(X_train_PCA, y_train)\n",
    "\n",
    "y_pred_train = clf.predict(X_train_PCA)\n",
    "y_pred_test = clf.predict(X_test_PCA)\n",
    "\n",
    "f1score = f1_score(y_test, y_pred_test, average=None)\n",
    "print(f'f1score_test: {f1score}')\n",
    "\n",
    "acc_score_train = accuracy_score(y_train, y_pred_train)\n",
    "print(f'acc_score_train: {acc_score_train}')\n",
    "\n",
    "acc_score_test = accuracy_score(y_test, y_pred_test)\n",
    "print(f'acc_score_test: {acc_score_test}')"
   ]
  },
  {
   "cell_type": "markdown",
   "metadata": {},
   "source": [
    "## CNN"
   ]
  },
  {
   "cell_type": "code",
   "execution_count": 24,
   "metadata": {},
   "outputs": [
    {
     "data": {
      "text/plain": [
       "(640, 350, 350)"
      ]
     },
     "execution_count": 24,
     "metadata": {},
     "output_type": "execute_result"
    }
   ],
   "source": [
    "## ne pas flatten les images\n",
    "X_train = X_train.reshape(X_train.shape[0], size_x, size_y)\n",
    "X_test  = X_test.reshape(X_test.shape[0], size_x, size_y)\n",
    "\n",
    "X_train.shape"
   ]
  },
  {
   "cell_type": "code",
   "execution_count": 25,
   "metadata": {},
   "outputs": [],
   "source": [
    "### tester le CNN avec du dropout : désactiver le % indiqué des couches\n",
    "\n",
    "from tensorflow.keras.models import Sequential\n",
    "from tensorflow.keras.layers import MaxPooling2D, Conv2D, Flatten, Dense\n",
    "\n",
    "\n",
    "def lenet5():\n",
    "    model = Sequential()\n",
    "\n",
    "    # Layer C1\n",
    "    model.add(Conv2D(filters=6, kernel_size=(3, 3), activation='relu', input_shape=(size_x,size_y,1)))\n",
    "    # Layer S2\n",
    "    model.add(MaxPooling2D(pool_size=(2, 2)))\n",
    "    # Layer C3\n",
    "    model.add(Conv2D(filters=16, kernel_size=(3, 3), activation='relu'))\n",
    "    # Layer S4\n",
    "    model.add(MaxPooling2D(pool_size=(2, 2)))\n",
    "    # Before going into layer C5, we flatten our units\n",
    "    model.add(Flatten())\n",
    "    # Layer C5\n",
    "    model.add(Dense(units=120, activation='relu'))\n",
    "    # Layer F6\n",
    "    model.add(Dense(units=84, activation='relu'))\n",
    "    # Output layer\n",
    "    model.add(Dense(units=1, activation = 'sigmoid'))\n",
    "    \n",
    "    return model"
   ]
  },
  {
   "cell_type": "code",
   "execution_count": 26,
   "metadata": {},
   "outputs": [
    {
     "name": "stdout",
     "output_type": "stream",
     "text": [
      "Epoch 1/10\n",
      "10/10 [==============================] - 8s 718ms/step - loss: 1.0225 - accuracy: 0.5078 - val_loss: 0.6868 - val_accuracy: 0.5000\n",
      "Epoch 2/10\n",
      "10/10 [==============================] - 4s 430ms/step - loss: 0.6569 - accuracy: 0.5984 - val_loss: 0.6519 - val_accuracy: 0.5688\n",
      "Epoch 3/10\n",
      "10/10 [==============================] - 4s 422ms/step - loss: 0.6009 - accuracy: 0.6766 - val_loss: 0.5747 - val_accuracy: 0.7563\n",
      "Epoch 4/10\n",
      "10/10 [==============================] - 4s 426ms/step - loss: 0.5124 - accuracy: 0.7859 - val_loss: 0.5050 - val_accuracy: 0.7563\n",
      "Epoch 5/10\n",
      "10/10 [==============================] - 4s 440ms/step - loss: 0.3882 - accuracy: 0.8797 - val_loss: 0.4120 - val_accuracy: 0.8313\n",
      "Epoch 6/10\n",
      "10/10 [==============================] - 4s 452ms/step - loss: 0.2686 - accuracy: 0.9031 - val_loss: 0.2561 - val_accuracy: 0.9062\n",
      "Epoch 7/10\n",
      "10/10 [==============================] - 4s 447ms/step - loss: 0.1987 - accuracy: 0.9281 - val_loss: 0.2161 - val_accuracy: 0.9062\n",
      "Epoch 8/10\n",
      "10/10 [==============================] - 5s 462ms/step - loss: 0.1580 - accuracy: 0.9469 - val_loss: 0.2421 - val_accuracy: 0.9000\n",
      "Epoch 9/10\n",
      "10/10 [==============================] - 4s 448ms/step - loss: 0.1284 - accuracy: 0.9547 - val_loss: 0.1963 - val_accuracy: 0.9062\n",
      "Epoch 10/10\n",
      "10/10 [==============================] - 4s 440ms/step - loss: 0.0578 - accuracy: 0.9953 - val_loss: 0.1520 - val_accuracy: 0.9375\n"
     ]
    },
    {
     "data": {
      "text/plain": [
       "<keras.callbacks.History at 0x7f5c00621210>"
      ]
     },
     "execution_count": 26,
     "metadata": {},
     "output_type": "execute_result"
    }
   ],
   "source": [
    "## CNN as seen on June,5th in 03-CNN\n",
    "## bien vérfier que les images sont scalées\n",
    "\n",
    "from tensorflow.keras.callbacks import EarlyStopping, TensorBoard\n",
    "\n",
    "# Instantiate the model\n",
    "model = lenet5()\n",
    "\n",
    "# Compile the model\n",
    "model.compile(optimizer='adam', loss='binary_crossentropy', metrics=['accuracy'])\n",
    "\n",
    "# Define the callbacks\n",
    "callbacks = [EarlyStopping(monitor='val_loss', patience=5),\n",
    "            TensorBoard(log_dir='./Graph', histogram_freq=0, write_graph=True, write_images=True)]\n",
    "\n",
    "\n",
    "# Finally fit the model\n",
    "model.fit(x=X_train, y=y_train, validation_data=(X_test, y_test), epochs=10, batch_size=64, callbacks=callbacks)\n",
    "\n",
    "### optimum biais-variance à epoch 6: acc_train: 0.90 et acc_test: 0.90\n",
    "### regarder les courbes acc_train et acc_test dans TensorBoard\n",
    "##Epoch 6/10\n",
    "##10/10 [==============================] - 4s 452ms/step - loss: 0.2686 - accuracy: 0.9031 - val_loss: 0.2561 - val_accuracy: 0.9062\n"
   ]
  },
  {
   "cell_type": "code",
   "execution_count": 27,
   "metadata": {},
   "outputs": [
    {
     "name": "stdout",
     "output_type": "stream",
     "text": [
      "accuracy on train with CNN: 0.9984375238418579\n",
      "accuracy on test with CNN: 0.9375\n"
     ]
    }
   ],
   "source": [
    "# Compute the accuracy\n",
    "print('accuracy on train with CNN:', model.evaluate(X_train, y_train, verbose=0)[1])\n",
    "print('accuracy on test with CNN:', model.evaluate(X_test, y_test, verbose=0)[1])"
   ]
  },
  {
   "cell_type": "code",
   "execution_count": null,
   "metadata": {},
   "outputs": [],
   "source": [
    "## voir avec le CCN imagenet + Dense layers vu en 03-CNN"
   ]
  },
  {
   "cell_type": "markdown",
   "metadata": {},
   "source": [
    "### A facial landmark extraction followed by a random forest"
   ]
  },
  {
   "cell_type": "markdown",
   "metadata": {},
   "source": [
    "je n'ai que 1h30 à consacrer aux challenges du J.06/06\n",
    "voir avec le formateur pour la mise à jour de CMake si besoin dans la suite"
   ]
  },
  {
   "cell_type": "code",
   "execution_count": 34,
   "metadata": {},
   "outputs": [
    {
     "name": "stdout",
     "output_type": "stream",
     "text": [
      "Collecting dlib\n",
      "  Using cached dlib-19.24.4.tar.gz (3.3 MB)\n",
      "  Installing build dependencies ... \u001b[?25ldone\n",
      "\u001b[?25h  Getting requirements to build wheel ... \u001b[?25ldone\n",
      "\u001b[?25h  Preparing metadata (pyproject.toml) ... \u001b[?25ldone\n",
      "\u001b[?25hBuilding wheels for collected packages: dlib\n",
      "  Building wheel for dlib (pyproject.toml) ... \u001b[?25lerror\n",
      "  \u001b[1;31merror\u001b[0m: \u001b[1msubprocess-exited-with-error\u001b[0m\n",
      "  \n",
      "  \u001b[31m×\u001b[0m \u001b[32mBuilding wheel for dlib \u001b[0m\u001b[1;32m(\u001b[0m\u001b[32mpyproject.toml\u001b[0m\u001b[1;32m)\u001b[0m did not run successfully.\n",
      "  \u001b[31m│\u001b[0m exit code: \u001b[1;36m1\u001b[0m\n",
      "  \u001b[31m╰─>\u001b[0m \u001b[31m[10 lines of output]\u001b[0m\n",
      "  \u001b[31m   \u001b[0m running bdist_wheel\n",
      "  \u001b[31m   \u001b[0m running build\n",
      "  \u001b[31m   \u001b[0m running build_ext\n",
      "  \u001b[31m   \u001b[0m Traceback (most recent call last):\n",
      "  \u001b[31m   \u001b[0m   File \"/home/michaelfaivre/.pyenv/versions/3.10.12/envs/artefact/bin/cmake\", line 5, in <module>\n",
      "  \u001b[31m   \u001b[0m     from cmake import cmake\n",
      "  \u001b[31m   \u001b[0m ModuleNotFoundError: No module named 'cmake'\n",
      "  \u001b[31m   \u001b[0m \n",
      "  \u001b[31m   \u001b[0m ERROR: CMake must be installed to build dlib\n",
      "  \u001b[31m   \u001b[0m \n",
      "  \u001b[31m   \u001b[0m \u001b[31m[end of output]\u001b[0m\n",
      "  \n",
      "  \u001b[1;35mnote\u001b[0m: This error originates from a subprocess, and is likely not a problem with pip.\n",
      "\u001b[?25h\u001b[31m  ERROR: Failed building wheel for dlib\u001b[0m\u001b[31m\n",
      "\u001b[0mFailed to build dlib\n",
      "\u001b[31mERROR: Could not build wheels for dlib, which is required to install pyproject.toml-based projects\u001b[0m\u001b[31m\n",
      "\u001b[0m"
     ]
    }
   ],
   "source": [
    "! pip install dlib"
   ]
  },
  {
   "cell_type": "code",
   "execution_count": 35,
   "metadata": {},
   "outputs": [
    {
     "ename": "ModuleNotFoundError",
     "evalue": "No module named 'face_recognition'",
     "output_type": "error",
     "traceback": [
      "\u001b[0;31m---------------------------------------------------------------------------\u001b[0m",
      "\u001b[0;31mModuleNotFoundError\u001b[0m                       Traceback (most recent call last)",
      "Cell \u001b[0;32mIn [35], line 4\u001b[0m\n\u001b[1;32m      1\u001b[0m \u001b[38;5;66;03m### je suis bloqué dans l'installation de la dépence dlib à cause de:\u001b[39;00m\n\u001b[1;32m      2\u001b[0m \u001b[38;5;66;03m### ModuleNotFoundError: No module named 'cmake'\u001b[39;00m\n\u001b[1;32m      3\u001b[0m \u001b[38;5;66;03m### ERROR: CMake must be installed to build dlib \u001b[39;00m\n\u001b[0;32m----> 4\u001b[0m \u001b[38;5;28;01mimport\u001b[39;00m \u001b[38;5;21;01mface_recognition\u001b[39;00m\n\u001b[1;32m      6\u001b[0m landmarks_train \u001b[38;5;241m=\u001b[39m face_recognition\u001b[38;5;241m.\u001b[39mface_landmarks(X_train)\n\u001b[1;32m      8\u001b[0m landmarks_train[\u001b[38;5;241m0\u001b[39m]\n",
      "\u001b[0;31mModuleNotFoundError\u001b[0m: No module named 'face_recognition'"
     ]
    }
   ],
   "source": [
    "### je suis bloqué dans l'installation de la dépence dlib à cause de:\n",
    "### ModuleNotFoundError: No module named 'cmake'\n",
    "### ERROR: CMake must be installed to build dlib\n",
    "\n",
    "##  X_train = X_train.reshape(*X_train.shape, 1)  en partant d'un X_train avec une shape (xxx, 350, 350)\n",
    "## Rappel : face_recognition est une image embedding\n",
    "\n",
    "\n",
    "import face_recognition\n",
    "\n",
    "landmarks_train = face_recognition.face_landmarks(X_train)\n",
    "\n",
    "landmarks_train[0]\n",
    "\n",
    "## construire un vecteur de caractéristiques à partir des landmarks\n",
    "## les landmarks sont numérotées\n",
    "## matrice de caractéristiques\n",
    "## "
   ]
  }
 ],
 "metadata": {
  "kernelspec": {
   "display_name": "artefact",
   "language": "python",
   "name": "python3"
  },
  "language_info": {
   "codemirror_mode": {
    "name": "ipython",
    "version": 3
   },
   "file_extension": ".py",
   "mimetype": "text/x-python",
   "name": "python",
   "nbconvert_exporter": "python",
   "pygments_lexer": "ipython3",
   "version": "3.10.12"
  }
 },
 "nbformat": 4,
 "nbformat_minor": 2
}
